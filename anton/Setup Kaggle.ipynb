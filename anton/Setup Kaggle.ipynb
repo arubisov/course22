{
 "cells": [
  {
   "cell_type": "markdown",
   "id": "9e526a94-5751-41c3-81e5-2514c07edb08",
   "metadata": {},
   "source": [
    "# Set up credentials for Kaggle API\n",
    "\n",
    "Borrowed from https://www.kaggle.com/code/jhoward/getting-started-with-nlp-for-absolute-beginners/"
   ]
  },
  {
   "cell_type": "code",
   "execution_count": null,
   "id": "a3801c63-51c6-4da0-b221-162a4c847966",
   "metadata": {},
   "outputs": [],
   "source": [
    "!conda install kaggle"
   ]
  },
  {
   "cell_type": "markdown",
   "id": "a83c808d-a36e-455f-9673-715124bc90c6",
   "metadata": {},
   "source": [
    "You need an API key to use the Kaggle API; to get one, click on your profile picture on the Kaggle website, and choose Account, then click Create New API Token. This will save a file called kaggle.json to your PC. You need to copy this key on your GPU server. To do so, open the file you downloaded, copy the contents, and paste them in the following cell (e.g., `creds = '{\"username\":\"xxx\",\"key\":\"xxx\"}'`):"
   ]
  },
  {
   "cell_type": "code",
   "execution_count": null,
   "id": "02207033-8a29-4053-82f3-8c3f783f253c",
   "metadata": {},
   "outputs": [],
   "source": [
    "creds = '{\"username\":\"arubisov\",\"key\":\"xxx\"}'"
   ]
  },
  {
   "cell_type": "code",
   "execution_count": null,
   "id": "75240936-7dc4-48c9-82a1-014973916bb2",
   "metadata": {},
   "outputs": [],
   "source": [
    "# for working with paths in Python, I recommend using `pathlib.Path`\n",
    "from pathlib import Path\n",
    "\n",
    "cred_path = Path('~/.kaggle/kaggle.json').expanduser()\n",
    "if not cred_path.exists():\n",
    "    cred_path.parent.mkdir(exist_ok=True)\n",
    "    cred_path.write_text(creds)\n",
    "    cred_path.chmod(0o600)"
   ]
  }
 ],
 "metadata": {
  "environment": {
   "kernel": "python3",
   "name": "pytorch-gpu.1-12.m99",
   "type": "gcloud",
   "uri": "gcr.io/deeplearning-platform-release/pytorch-gpu.1-12:m99"
  },
  "kernelspec": {
   "display_name": "Python 3",
   "language": "python",
   "name": "python3"
  },
  "language_info": {
   "codemirror_mode": {
    "name": "ipython",
    "version": 3
   },
   "file_extension": ".py",
   "mimetype": "text/x-python",
   "name": "python",
   "nbconvert_exporter": "python",
   "pygments_lexer": "ipython3",
   "version": "3.7.12"
  }
 },
 "nbformat": 4,
 "nbformat_minor": 5
}
