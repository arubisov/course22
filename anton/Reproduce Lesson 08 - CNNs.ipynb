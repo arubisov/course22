{
 "cells": [
  {
   "cell_type": "code",
   "execution_count": 1,
   "id": "eaa6e9f1-822c-40eb-8435-ef33470e3bba",
   "metadata": {},
   "outputs": [],
   "source": [
    "import torch\n",
    "import numpy as np\n",
    "import pandas as pd\n",
    "import os\n",
    "from pathlib import Path\n",
    "np.set_printoptions(linewidth=140)\n",
    "torch.set_printoptions(linewidth=140, sci_mode=False, edgeitems=7)\n",
    "pd.set_option('display.width', 140)\n",
    "\n",
    "from fastai.vision.all import *\n",
    "from fastbook import *\n",
    "\n",
    "matplotlib.rc('image', cmap='Greys')"
   ]
  },
  {
   "cell_type": "code",
   "execution_count": 2,
   "id": "208d0dae-6406-4806-a211-fb34e76962a7",
   "metadata": {},
   "outputs": [],
   "source": [
    "path = untar_data(URLs.MNIST_SAMPLE)"
   ]
  },
  {
   "cell_type": "code",
   "execution_count": 6,
   "id": "7bc9df8b-4161-4b87-bdc8-23f11defac5f",
   "metadata": {},
   "outputs": [
    {
     "data": {
      "text/plain": [
       "Path('/home/jupyter/.fastai/data/mnist_sample')"
      ]
     },
     "execution_count": 6,
     "metadata": {},
     "output_type": "execute_result"
    }
   ],
   "source": [
    "path"
   ]
  },
  {
   "cell_type": "code",
   "execution_count": 12,
   "id": "f46ca760-e8f5-4803-bef9-8427cb7eecea",
   "metadata": {},
   "outputs": [
    {
     "data": {
      "image/png": "[encoded data removed]",
      "text/plain": [
       "<Figure size 100x100 with 1 Axes>"
      ]
     },
     "metadata": {},
     "output_type": "display_data"
    }
   ],
   "source": [
    "im7 = Image.open(path/'train'/'7'/'1975.png')\n",
    "show_image(im7);"
   ]
  },
  {
   "cell_type": "code",
   "execution_count": 17,
   "id": "6e443ad6-606c-498e-a5b1-fe1d1cf50b0e",
   "metadata": {},
   "outputs": [],
   "source": [
    "im7_t = tensor(im7)"
   ]
  },
  {
   "cell_type": "code",
   "execution_count": 20,
   "id": "dfe7232a-26a7-42b3-a367-6e83379568d5",
   "metadata": {},
   "outputs": [
    {
     "data": {
      "text/plain": [
       "tensor([[  0,   0,   0,   0,   0,   0,   0,   0,   0,   0,   0,   0,   0,   0,   0,   0,   0,   0],\n",
       "        [  0,   0,   0,   0,   0,   0,   0,   0,   0,   0,   0,   0,   0,   0,   0,   0,   0,   0],\n",
       "        [  0,   0,   0,   0,   0,   0,   0,   0,   0,   0,   0,   0,   0,   0,   0,   0,   0,   0],\n",
       "        [  0,   0,   0,   0,   0,   0,   0,   0,   0,   0,   0,   0,   0,   0,   0,   0,   0,   0],\n",
       "        [  0,   0,   0,   0,   0,   0,   0,   0,   0,   0,   0,   0,   0,   0,   0,   0,   0,   0],\n",
       "        [  0,   0,   0,   0,   0,   0,   0,   0,   0,   0,   0,   0,   0,   0,   0,   0,   0,   0],\n",
       "        [  0,   0,   0,   0,   0,   0,   0,   0,   0,   0,   5,  13, 123, 249, 250,  64,   5,   0],\n",
       "        [  0,   0,   0,   0,   0,   0,   0,   0,   0,  42, 181, 253, 253, 253, 254, 253, 169,   9],\n",
       "        [  0,   0,   0,   0,   0,   0,   0,   0,   9, 156, 253, 253, 238, 217, 220, 253, 253, 189],\n",
       "        [  0,   0,   0,   0,   0,   0,   0,   0, 142, 253, 253, 235,  59,   0,   5,  84, 166, 253],\n",
       "        [  0,   0,   0,   0,   0,   0,   0,   0, 182, 253, 253, 156,   0,   0,   0,   0,  37, 253],\n",
       "        [  0,   0,   0,   0,   0,   0,   0,   0, 182, 253, 253,  64,   0,   0,   0,   0, 129, 253],\n",
       "        [  0,   0,   0,   0,   0,   0,   0,   0, 182, 253, 253,  36,   0,   0,   0,  20, 235, 253],\n",
       "        [  0,   0,   0,   0,   0,   0,   0,   0, 113, 156, 116,   5,   0,   0,   0, 128, 253, 253],\n",
       "        [  0,   0,   0,   0,   0,   0,   0,   0,   0,   0,   0,   0,   0,   0,   0, 145, 253, 253],\n",
       "        [  0,   0,   0,   0,   0,   0,   0,   0,   0,   0,   0,   0,   0,   0,   6, 197, 253, 253],\n",
       "        [  0,   0,   0,   0,   0,   0,   0,   0,   0,   0,   0,   0,   0,   0,  82, 254, 254, 200],\n",
       "        [  0,   0,   0,   0,   0,   0,   0,   0,   0,   0,   0,   0,   0,   0, 254, 253, 232,  36]], dtype=torch.uint8)"
      ]
     },
     "execution_count": 20,
     "metadata": {},
     "output_type": "execute_result"
    }
   ],
   "source": [
    "im7_t[:18,:18]"
   ]
  },
  {
   "cell_type": "code",
   "execution_count": 80,
   "id": "01849988-abaa-49aa-a6dd-58b708ba4580",
   "metadata": {},
   "outputs": [
    {
     "name": "stdout",
     "output_type": "stream",
     "text": [
      "cell-wise multiplication (top-left 3x3): \n",
      " tensor([[-0., -0., -0.],\n",
      "        [0., 0., 0.],\n",
      "        [0., 0., 0.]])\n",
      "sum (top-left 3x3): tensor(0.)\n",
      "apply_kernel applied to (7,7) should return 9: tensor(9.)\n"
     ]
    }
   ],
   "source": [
    "# now we create a kernel. normally these are initialized with random numbers and then SGD used to optimize\n",
    "# based on supervised labels.\n",
    "# in this case, let's create a horizontal edge detector manually.\n",
    "\n",
    "# see the 18x18 preview above. our horizontal edge should pick up row index 7, the very top of the 7, but \n",
    "#not the row above it or below it.\n",
    "\n",
    "top_edge = tensor([[ -1, -1, -1],\n",
    "                   [  0,  0,  0],\n",
    "                   [  1,  1,  1]]).float()\n",
    "\n",
    "# the reason that manual kernel works: row index 8 will return positive values, row index 6 is all zeros \n",
    "# so nothing will be substracted.\n",
    "\n",
    "# applying the kernel to the top left of the image looks like so:\n",
    "result = im7_t[:3, :3] * top_edge\n",
    "print('cell-wise multiplication (top-left 3x3): \\n', result)\n",
    "result = result.sum()\n",
    "print('sum (top-left 3x3):', result)\n",
    "\n",
    "# now create a helper function for that dot product...\n",
    "def apply_kernel(layer, row, col, kernel):\n",
    "    # apply the 3x3 kernel centered at position (row, col) of the input layer\n",
    "    # this will not work on the edges of the input layer (index error)\n",
    "    return (layer[row-1:row+2, col-1:col+2] * kernel).sum()\n",
    "\n",
    "# for idx (7, 7) this should return 9 (look at the tensor output above to confirm intuition)\n",
    "print('apply_kernel applied to (7,7) should return 9:', apply_kernel(im7_t, 7, 7, top_edge))"
   ]
  },
  {
   "cell_type": "markdown",
   "id": "d595c898-65c5-48d8-b98c-79a0d0236a7a",
   "metadata": {},
   "source": [
    "## convolution, relu, maxpool, dense layer"
   ]
  },
  {
   "cell_type": "code",
   "execution_count": 81,
   "id": "c8fd82e2-2237-4fcb-9a14-d2e48c0e8618",
   "metadata": {},
   "outputs": [
    {
     "name": "stdout",
     "output_type": "stream",
     "text": [
      "kernel applied to entire image: \n",
      " tensor([[   0.,    0.,    0.,    0.,    0.,    0.,    0.,    0.,    0.,    0.,    0.,    0.,    0.,    0.,    0.],\n",
      "        [   0.,    0.,    0.,    0.,    0.,    0.,    0.,    0.,    0.,    0.,    0.,    0.,    0.,    0.,    0.],\n",
      "        [   0.,    0.,    0.,    0.,    0.,    0.,    0.,    0.,    0.,    0.,    0.,    0.,    0.,    0.,    0.],\n",
      "        [   0.,    0.,    0.,    0.,    0.,    0.,    0.,    0.,    0.,    0.,    0.,    0.,    0.,    0.,    0.],\n",
      "        [   0.,    0.,    0.,    0.,    0.,    0.,    0.,    0.,    5.,   18.,  141.,  385.,  622.,  563.,  319.],\n",
      "        [   0.,    0.,    0.,    0.,    0.,    0.,    0.,   42.,  223.,  476.,  687.,  759.,  760.,  760.,  676.],\n",
      "        [   0.,    0.,    0.,    0.,    0.,    0.,    9.,  165.,  413.,  644.,  603.,  323.,   53.,  127.,  407.],\n",
      "        [   0.,    0.,    0.,    0.,    0.,    0.,  142.,  353.,  425.,  265., -140., -465., -696., -671., -421.],\n",
      "        [   0.,    0.,    0.,    0.,    0.,    0.,  173.,  270.,  270.,    0., -335., -552., -675., -690., -689.],\n",
      "        [   0.,    0.,    0.,    0.,    0.,    0.,   40.,   40.,   40., -171., -230., -230.,  -64.,  -89., -126.],\n",
      "        [   0.,    0.,    0.,    0.,    0.,    0.,    0.,    0.,    0., -120., -120., -120.,    0.,   20.,  218.],\n",
      "        [   0.,    0.,    0.,    0.,    0.,    0.,  -69., -166., -303., -293., -196.,  -59.,    0.,  128.,  252.],\n",
      "        [   0.,    0.,    0.,    0.,    0.,    0., -182., -435., -688., -542., -289.,  -36.,    0.,  125.,  143.],\n",
      "        [   0.,    0.,    0.,    0.,    0.,    0., -113., -269., -385., -277., -121.,   -5.,    6.,   75.,   75.],\n",
      "        [   0.,    0.,    0.,    0.,    0.,    0.,    0.,    0.,    0.,    0.,    0.,    0.,   82.,  191.,  192.]])\n"
     ]
    },
    {
     "data": {
      "text/plain": [
       "<AxesSubplot:title={'center':'with relu'}>"
      ]
     },
     "execution_count": 81,
     "metadata": {},
     "output_type": "execute_result"
    },
    {
     "data": {
      "image/png": "[encoded data removed]",
      "text/plain": [
       "<Figure size 100x100 with 1 Axes>"
      ]
     },
     "metadata": {},
     "output_type": "display_data"
    },
    {
     "data": {
      "image/png": "[encoded data removed]",
      "text/plain": [
       "<Figure size 100x100 with 1 Axes>"
      ]
     },
     "metadata": {},
     "output_type": "display_data"
    }
   ],
   "source": [
    "# now let's loop over the entire image and apply the kernel everywhere we can (discard edges)\n",
    "idx = range(1, 27)\n",
    "im7_t_top_edge = tensor([[apply_kernel(im7_t, row, col, top_edge) for col in idx] for row in idx])\n",
    "\n",
    "# when I first did this the image was flipped along the diagonal because i had done the list comprehension backwards!\n",
    "# beware careless mistakes!\n",
    "print('kernel applied to entire image: \\n', im7_t_top_edge[:15,:15])\n",
    "show_image(im7_t_top_edge, title='without relu')\n",
    "\n",
    "# and finally let's add a minimum with zero - we don't want negative activations.\n",
    "im7_t_top_edge_relu = F.relu(im7_t_top_edge)\n",
    "show_image(im7_t_top_edge_relu, title='with relu')"
   ]
  },
  {
   "cell_type": "code",
   "execution_count": 82,
   "id": "26389e7c-d2ab-4e5e-8e6b-f46c118462e8",
   "metadata": {},
   "outputs": [
    {
     "name": "stdout",
     "output_type": "stream",
     "text": [
      "apply_maxpool applied to (5,5) should return 9: tensor(9.)\n",
      "maxpool applied to entire image: \n",
      " tensor([[  0.,   0.,   0.,   0.,   0.,   0.,   0.,   0.,   0.,   0.,   0.,   0.,   0.],\n",
      "        [  0.,   0.,   0.,   0.,   0.,   0.,   0.,   0.,   0.,   0.,   0.,   0.,   0.],\n",
      "        [  0.,   0.,   0.,  42., 476., 759., 760., 676., 178.,   0.,   0.,   0.,   0.],\n",
      "        [  0.,   0.,   0., 353., 644., 603., 127., 626., 599., 355.,   0.,   0.,   0.],\n",
      "        [  0.,   0.,   0., 270., 270.,   0.,   0.,   0., 435., 371.,   0.,   0.,   0.],\n",
      "        [  0.,   0.,   0.,   0.,   0.,   0., 128., 252., 178.,   0.,   0.,   0.,   0.],\n",
      "        [  0.,   0.,   0.,   0.,   0.,   0., 125., 143.,   0.,   0.,   0.,   0.,   0.],\n",
      "        [  0.,   0.,   0.,   0.,   0.,   0., 304., 283.,   0.,   0.,   0.,   0.,   0.],\n",
      "        [  0.,   0.,   0.,   0.,   0., 144., 190., 116.,   0.,   0.,   0.,   0.,   0.],\n",
      "        [  0.,   0.,   0.,   0.,   0., 224., 224.,   0.,   0.,   0.,   0.,   0.,   0.],\n",
      "        [  0.,   0.,   0.,   0.,   0., 121., 121.,   0.,   0.,   0.,   0.,   0.,   0.],\n",
      "        [  0.,   0.,   0.,   0.,   0.,   0.,   0.,   0.,   0.,   0.,   0.,   0.,   0.],\n",
      "        [  0.,   0.,   0.,   0.,   0.,   0.,   0.,   0.,   0.,   0.,   0.,   0.,   0.]])\n"
     ]
    },
    {
     "data": {
      "text/plain": [
       "<AxesSubplot:title={'center':'after maxpool'}>"
      ]
     },
     "execution_count": 82,
     "metadata": {},
     "output_type": "execute_result"
    },
    {
     "data": {
      "image/png": "[encoded data removed]",
      "text/plain": [
       "<Figure size 100x100 with 1 Axes>"
      ]
     },
     "metadata": {},
     "output_type": "display_data"
    }
   ],
   "source": [
    "# now let's apply maxpooling.\n",
    "def apply_maxpool(layer, row, col):\n",
    "    return layer[row:row+2, col:col+2].max()\n",
    "\n",
    "print('apply_maxpool applied to (5,5) should return 9:', apply_maxpool(im7_t_top_edge_relu, 5, 5))\n",
    "\n",
    "# let's apply to entire image.\n",
    "# here we skip every other index\n",
    "idx = range(0, im7_t_top_edge_relu.size(0), 2)\n",
    "im7_t_top_edge_relu_maxpool = tensor([[apply_maxpool(im7_t_top_edge_relu, row, col) for col in idx] for row in idx])\n",
    "\n",
    "print('maxpool applied to entire image: \\n', im7_t_top_edge_relu_maxpool)\n",
    "show_image(im7_t_top_edge_relu_maxpool, title='after maxpool')"
   ]
  },
  {
   "cell_type": "code",
   "execution_count": 98,
   "id": "6ca073b7-a034-43c7-a509-bf8d4a640812",
   "metadata": {},
   "outputs": [
    {
     "data": {
      "text/plain": [
       "tensor([[-0.7124, -0.3564,  0.6990,  0.9557, -0.6004, -0.5550,  0.1238,  0.3931, -0.1629, -0.3123, -0.6568,  0.4269,  0.9798],\n",
       "        [-0.4841,  0.4717,  0.4884,  0.8038, -0.1139,  0.0315,  0.7347,  0.6321,  0.9877, -0.2866,  0.3957,  0.6983, -0.6788],\n",
       "        [ 0.1987, -0.2238,  0.6428, -0.4491,  0.0701,  0.5983, -0.9161, -0.8444, -0.5122,  0.6414,  0.6705, -0.6830,  0.1907],\n",
       "        [-0.5299, -0.4642,  0.8624,  0.4830, -0.2735,  0.1472,  0.1938,  0.2342, -0.3423, -0.5889,  0.6621,  0.1344,  0.4185],\n",
       "        [-0.3787,  0.4844,  0.7278,  0.6082,  0.2719,  0.9839, -0.0022,  0.2129,  0.9501,  0.9719, -0.4222,  0.9008,  0.3691],\n",
       "        [-0.1119,  0.8731, -0.5180,  0.6497,  0.9909, -0.6897, -0.5901, -0.9909, -0.1800, -0.9082, -0.3349,  0.3036,  0.7069],\n",
       "        [ 0.5570,  0.5551,  0.4149, -0.6202, -0.7940,  0.0415,  0.9496,  0.0563, -0.0860, -0.6787, -0.4958, -0.7709,  0.8007],\n",
       "        [-0.1629, -0.8834,  0.1073,  0.0726, -0.1235,  0.3580,  0.5378, -0.9404, -0.7661, -0.0480, -0.9271, -0.9084,  0.8829],\n",
       "        [-0.0761, -0.4944, -0.3430, -0.7807,  0.7804, -0.2168, -0.5622, -0.7584,  0.5845, -0.1382, -0.1051, -0.2606, -0.4827],\n",
       "        [ 0.1779,  0.7694, -0.5796,  0.0479, -0.7605, -0.4689,  0.8778,  0.0105,  0.9633, -0.1752, -0.5450, -0.5975,  0.8863],\n",
       "        [-0.7690,  0.5248,  0.2486,  0.2951,  0.5642, -0.2616,  0.6188, -0.7967, -0.3518,  0.7320,  0.2968, -0.1332, -0.2335],\n",
       "        [-0.6106,  0.6081, -0.0318, -0.0338,  0.2365,  0.7379, -0.5102, -0.3444,  0.6776,  0.5648, -0.4919, -0.9893,  0.1855],\n",
       "        [ 0.5259,  0.2389,  0.7093, -0.7935,  0.5043, -0.6217,  0.5628,  0.7437,  0.3167,  0.8091, -0.6592, -0.8944, -0.9615]])"
      ]
     },
     "execution_count": 98,
     "metadata": {},
     "output_type": "execute_result"
    }
   ],
   "source": [
    "\n"
   ]
  },
  {
   "cell_type": "code",
   "execution_count": 118,
   "id": "19bf4cfb-66cc-4a44-b407-1a33bb15f5a9",
   "metadata": {},
   "outputs": [
    {
     "name": "stdout",
     "output_type": "stream",
     "text": [
      "final activation: tensor(1143.4187)\n"
     ]
    }
   ],
   "source": [
    "# let's create a dense layer with initial random weights in the internal [1,1)\n",
    "dense_layer = torch.rand(im7_t_top_edge_relu_maxpool.size())*2 - 1\n",
    "\n",
    "activation = F.relu((im7_t_top_edge_relu_maxpool*dense_layer).sum())\n",
    "\n",
    "print('final activation:', activation)\n",
    "\n",
    "# now assuming we had multiple activations, we would softmax them and take the argmax for our predicted label"
   ]
  },
  {
   "cell_type": "markdown",
   "id": "76dc6086-30ac-4cba-b299-e6de7eb55236",
   "metadata": {},
   "source": [
    "# stride convolution, average pooling"
   ]
  },
  {
   "cell_type": "code",
   "execution_count": 87,
   "id": "28de3714-23ae-4511-8c77-09424448b660",
   "metadata": {},
   "outputs": [
    {
     "name": "stdout",
     "output_type": "stream",
     "text": [
      "kernel applied to entire image: \n",
      " tensor([[   0.,    0.,    0.,    0.,    0.,    0.,    0.,    0.,    0.,    0.,    0.,    0.,    0.],\n",
      "        [   0.,    0.,    0.,    0.,    0.,    0.,    0.,    0.,    0.,    0.,    0.,    0.,    0.],\n",
      "        [   0.,    0.,    0.,    0.,    5.,  141.,  622.,  319.,    5.,    0.,    0.,    0.,    0.],\n",
      "        [   0.,    0.,    0.,    9.,  413.,  603.,   53.,  407.,  499.,   62.,    0.,    0.,    0.],\n",
      "        [   0.,    0.,    0.,  173.,  270., -335., -675., -689.,   39.,  371.,    0.,    0.,    0.],\n",
      "        [   0.,    0.,    0.,    0.,    0., -120.,    0.,  218.,  178., -160.,    0.,    0.,    0.],\n",
      "        [   0.,    0.,    0., -182., -688., -289.,    0.,  143., -143., -201.,    0.,    0.,    0.],\n",
      "        [   0.,    0.,    0.,    0.,    0.,    0.,   82.,  192., -124.,  -72.,    0.,    0.,    0.],\n",
      "        [   0.,    0.,    0.,    0.,    0.,    0.,  190.,  116., -255.,    0.,    0.,    0.,    0.],\n",
      "        [   0.,    0.,    0.,    0.,    0.,    0.,  224., -188., -171.,    0.,    0.,    0.,    0.],\n",
      "        [   0.,    0.,    0.,    0.,    0.,  110.,  121., -134.,  -28.,    0.,    0.,    0.,    0.],\n",
      "        [   0.,    0.,    0.,    0.,    0.,    0.,    0.,  -21.,    0.,    0.,    0.,    0.,    0.],\n",
      "        [   0.,    0.,    0.,    0.,    0., -110., -617., -363.,    0.,    0.,    0.,    0.,    0.]])\n"
     ]
    },
    {
     "data": {
      "text/plain": [
       "<AxesSubplot:title={'center':'stride with relu'}>"
      ]
     },
     "execution_count": 87,
     "metadata": {},
     "output_type": "execute_result"
    },
    {
     "data": {
      "image/png": "[encoded data removed]",
      "text/plain": [
       "<Figure size 100x100 with 1 Axes>"
      ]
     },
     "metadata": {},
     "output_type": "display_data"
    },
    {
     "data": {
      "image/png": "[encoded data removed]",
      "text/plain": [
       "<Figure size 100x100 with 1 Axes>"
      ]
     },
     "metadata": {},
     "output_type": "display_data"
    }
   ],
   "source": [
    "# let's try the same thing with a different technique\n",
    "idx = range(1, 27, 2)\n",
    "im7_t_top_edge_stride = tensor([[apply_kernel(im7_t, row, col, top_edge) for col in idx] for row in idx])\n",
    "\n",
    "print('kernel applied to entire image: \\n', im7_t_top_edge_stride)\n",
    "show_image(im7_t_top_edge_stride, title='stride without relu')\n",
    "\n",
    "# and finally let's add a minimum with zero - we don't want negative activations.\n",
    "im7_t_top_edge_stride_relu = F.relu(im7_t_top_edge_stride)\n",
    "show_image(im7_t_top_edge_stride_relu, title='stride with relu')"
   ]
  },
  {
   "cell_type": "code",
   "execution_count": 131,
   "id": "b845b92e-e271-4822-a206-61572944a7bc",
   "metadata": {},
   "outputs": [
    {
     "name": "stdout",
     "output_type": "stream",
     "text": [
      "current size: torch.Size([13, 13])\n",
      "kernel applied to entire image: \n",
      " tensor([[   0.,    5.,  768.,  946.,    5.,    0.],\n",
      "        [   0.,  438., -498., -907.,  405.,    0.],\n",
      "        [   0., -443., -270.,  104., -410.,    0.],\n",
      "        [   0.,    0.,  190.,  163.,    0.,    0.],\n",
      "        [   0.,    0.,   41., -185.,    0.,    0.],\n",
      "        [   0.,    0., -231., -121.,    0.,    0.]])\n"
     ]
    },
    {
     "data": {
      "text/plain": [
       "<AxesSubplot:title={'center':'layer 1: stride+relu\\nlayer 2: stride+relu'}>"
      ]
     },
     "execution_count": 131,
     "metadata": {},
     "output_type": "execute_result"
    },
    {
     "data": {
      "image/png": "[encoded data removed]",
      "text/plain": [
       "<Figure size 100x100 with 1 Axes>"
      ]
     },
     "metadata": {},
     "output_type": "display_data"
    },
    {
     "data": {
      "image/png": "[encoded data removed]",
      "text/plain": [
       "<Figure size 100x100 with 1 Axes>"
      ]
     },
     "metadata": {},
     "output_type": "display_data"
    }
   ],
   "source": [
    "# let's apply it till we get down to a 7x7\n",
    "print('current size:', im7_t_top_edge_stride_relu.size())\n",
    "\n",
    "idx = range(1, im7_t_top_edge_stride_relu.size(0), 2)\n",
    "im7_t_top_edge_stride_2 = tensor([[apply_kernel(im7_t_top_edge_stride_relu, row, col, top_edge) for col in idx] for row in idx])\n",
    "\n",
    "print('kernel applied to entire image: \\n', im7_t_top_edge_stride_2)\n",
    "show_image(im7_t_top_edge_stride_2, title='layer 1: stride+relu\\nlayer 2: stride without relu')\n",
    "\n",
    "# and finally let's add a minimum with zero - we don't want negative activations.\n",
    "im7_t_top_edge_stride_2_relu = F.relu(im7_t_top_edge_stride_2)\n",
    "show_image(im7_t_top_edge_stride_2_relu, title='layer 1: stride+relu\\nlayer 2: stride+relu')"
   ]
  },
  {
   "cell_type": "code",
   "execution_count": 91,
   "id": "cbbe80c6-0086-4b88-940c-bdc54a41904e",
   "metadata": {},
   "outputs": [
    {
     "name": "stdout",
     "output_type": "stream",
     "text": [
      "current size: torch.Size([6, 6])\n",
      "final activation: tensor(85.1389)\n"
     ]
    }
   ],
   "source": [
    "print('current size:', im7_t_top_edge_stride_2_relu.size())\n",
    "\n",
    "def apply_avgpool(layer):\n",
    "    return layer.mean()\n",
    "\n",
    "activation = apply_avgpool(im7_t_top_edge_stride_2_relu)\n",
    "\n",
    "print('final activation:', activation)"
   ]
  },
  {
   "cell_type": "markdown",
   "id": "e5448194-b07f-4494-9d98-ec3ab217cd72",
   "metadata": {
    "tags": []
   },
   "source": [
    "## insert dropout"
   ]
  },
  {
   "cell_type": "code",
   "execution_count": 92,
   "id": "e645ff53-e075-4729-a748-2eae8d61bbc5",
   "metadata": {},
   "outputs": [
    {
     "data": {
      "text/plain": [
       "<AxesSubplot:title={'center':'stride with relu'}>"
      ]
     },
     "execution_count": 92,
     "metadata": {},
     "output_type": "execute_result"
    },
    {
     "data": {
      "image/png": "[encoded data removed]",
      "text/plain": [
       "<Figure size 100x100 with 1 Axes>"
      ]
     },
     "metadata": {},
     "output_type": "display_data"
    }
   ],
   "source": [
    "# let's go back to having taken our first convolution with stride 2\n",
    "show_image(im7_t_top_edge_stride_relu, title='stride with relu')"
   ]
  },
  {
   "cell_type": "code",
   "execution_count": 124,
   "id": "89c616ae-121c-4b73-890d-2ad1b4f71fcc",
   "metadata": {},
   "outputs": [
    {
     "name": "stdout",
     "output_type": "stream",
     "text": [
      "black is kept, white is dropped\n"
     ]
    },
    {
     "data": {
      "image/png": "[encoded data removed]",
      "text/plain": [
       "<Figure size 100x100 with 1 Axes>"
      ]
     },
     "metadata": {},
     "output_type": "display_data"
    }
   ],
   "source": [
    "# to use dropout, we initialize a matrix of random weights, choose a threshold, and apply a binary mask:\n",
    "dropout = torch.rand(im7_t_top_edge_stride_relu.size())\n",
    "threshold = 0.2\n",
    "dropout_mask = (dropout > threshold).int()\n",
    "show_image(dropout_mask, title='dropout mask')\n",
    "print('black is kept, white is dropped')"
   ]
  },
  {
   "cell_type": "code",
   "execution_count": 126,
   "id": "f4176349-3a0b-4317-abb2-acf8ea53baf3",
   "metadata": {},
   "outputs": [
    {
     "data": {
      "text/plain": [
       "<AxesSubplot:title={'center':'stride with relu with dropout'}>"
      ]
     },
     "execution_count": 126,
     "metadata": {},
     "output_type": "execute_result"
    },
    {
     "data": {
      "image/png": "[encoded data removed]",
      "text/plain": [
       "<Figure size 100x100 with 1 Axes>"
      ]
     },
     "metadata": {},
     "output_type": "display_data"
    }
   ],
   "source": [
    "# now instead of applying stride 2 convolution again, we first apply the dropout:\n",
    "\n",
    "im7_t_top_edge_stride_relu_dropout = im7_t_top_edge_stride_relu * dropout\n",
    "show_image(im7_t_top_edge_stride_relu_dropout, title='stride with relu with dropout')"
   ]
  },
  {
   "cell_type": "code",
   "execution_count": 129,
   "id": "064e1ced-a268-4f17-9cc0-cb01e03f6691",
   "metadata": {},
   "outputs": [
    {
     "name": "stdout",
     "output_type": "stream",
     "text": [
      "kernel applied to entire image: \n",
      " tensor([[   0.0000,    0.6637,   54.4578,  177.8353,    0.5592,    0.0000],\n",
      "        [   0.0000,  211.9679,   61.1156, -175.4324,  344.7260,    0.0000],\n",
      "        [   0.0000, -212.6316, -115.5734,   27.9084, -345.2852,    0.0000],\n",
      "        [   0.0000,    0.0000,    1.0423,   12.1869,    0.0000,    0.0000],\n",
      "        [   0.0000,    0.0000,  157.0919,   36.0194,    0.0000,    0.0000],\n",
      "        [   0.0000,    0.0000, -158.1342,  -78.5175,    0.0000,    0.0000]])\n"
     ]
    },
    {
     "data": {
      "text/plain": [
       "<AxesSubplot:title={'center':'layer 1: stride+relu+dropout\\nlayer 2: stride+relu'}>"
      ]
     },
     "execution_count": 129,
     "metadata": {},
     "output_type": "execute_result"
    },
    {
     "data": {
      "image/png": "[encoded data removed]",
      "text/plain": [
       "<Figure size 100x100 with 1 Axes>"
      ]
     },
     "metadata": {},
     "output_type": "display_data"
    },
    {
     "data": {
      "image/png": "[encoded data removed]",
      "text/plain": [
       "<Figure size 100x100 with 1 Axes>"
      ]
     },
     "metadata": {},
     "output_type": "display_data"
    }
   ],
   "source": [
    "# NOW we apply the convolution with stride 2 a second time\n",
    "idx = range(1, im7_t_top_edge_stride_relu_dropout.size(0), 2)\n",
    "im7_t_top_edge_stride_relu_dropout_stride_2 = tensor([[apply_kernel(im7_t_top_edge_stride_relu_dropout, row, col, top_edge) for col in idx] for row in idx])\n",
    "\n",
    "print('kernel applied to entire image: \\n', im7_t_top_edge_stride_relu_dropout_stride_2)\n",
    "show_image(im7_t_top_edge_stride_relu_dropout_stride_2, title='layer 1: stride+relu+dropout\\nlayer 2: stride without relu')\n",
    "\n",
    "# and finally let's add a minimum with zero - we don't want negative activations.\n",
    "im7_t_top_edge_stride_relu_dropout_stride_2_relu = F.relu(im7_t_top_edge_stride_relu_dropout_stride_2)\n",
    "show_image(im7_t_top_edge_stride_relu_dropout_stride_2_relu, title='layer 1: stride+relu+dropout\\nlayer 2: stride+relu')"
   ]
  },
  {
   "cell_type": "code",
   "execution_count": null,
   "id": "70d6ff3f-0d26-47b7-bc8e-5c1ba1d7b878",
   "metadata": {},
   "outputs": [],
   "source": []
  }
 ],
 "metadata": {
  "environment": {
   "kernel": "python3",
   "name": "pytorch-gpu.1-12.m99",
   "type": "gcloud",
   "uri": "gcr.io/deeplearning-platform-release/pytorch-gpu.1-12:m99"
  },
  "kernelspec": {
   "display_name": "Python 3",
   "language": "python",
   "name": "python3"
  },
  "language_info": {
   "codemirror_mode": {
    "name": "ipython",
    "version": 3
   },
   "file_extension": ".py",
   "mimetype": "text/x-python",
   "name": "python",
   "nbconvert_exporter": "python",
   "pygments_lexer": "ipython3",
   "version": "3.7.12"
  }
 },
 "nbformat": 4,
 "nbformat_minor": 5
}
