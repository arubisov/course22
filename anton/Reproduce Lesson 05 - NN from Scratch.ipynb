{
 "cells": [
  {
   "cell_type": "code",
   "execution_count": 4,
   "id": "75f11fd6-fb71-473e-8e14-30e4ced8f8f0",
   "metadata": {},
   "outputs": [],
   "source": [
    "import torch\n",
    "import numpy as np\n",
    "import pandas as pd\n",
    "import os\n",
    "from pathlib import Path\n",
    "np.set_printoptions(linewidth=140)\n",
    "torch.set_printoptions(linewidth=140, sci_mode=False, edgeitems=7)\n",
    "pd.set_option('display.width', 140)"
   ]
  },
  {
   "cell_type": "markdown",
   "id": "63dee6ae-4fd7-4f76-9407-832364a3d63a",
   "metadata": {
    "tags": []
   },
   "source": [
    "# Load the data"
   ]
  },
  {
   "cell_type": "code",
   "execution_count": 5,
   "id": "9a92b5a2-7ef4-40a4-9245-4b3e8fff7f82",
   "metadata": {},
   "outputs": [],
   "source": [
    "iskaggle = os.environ.get('KAGGLE_KERNEL_RUN_TYPE', '')\n",
    "if iskaggle: path = Path('../input/titanic')\n",
    "else:\n",
    "    path = Path('titanic')\n",
    "    if not path.exists():\n",
    "        import zipfile,kaggle\n",
    "        kaggle.api.competition_download_cli(str(path))\n",
    "        zipfile.ZipFile(f'{path}.zip').extractall(path)"
   ]
  },
  {
   "cell_type": "code",
   "execution_count": 6,
   "id": "d6fb4d20-a1a1-4482-bb54-4fd3c1255cd1",
   "metadata": {},
   "outputs": [],
   "source": [
    "df = pd.read_csv(path/'train.csv')\n",
    "df_test = pd.read_csv(path/'test.csv')"
   ]
  },
  {
   "cell_type": "code",
   "execution_count": 4,
   "id": "b8dc5ade-8bf1-49c1-8503-c8597980513e",
   "metadata": {},
   "outputs": [
    {
     "data": {
      "text/html": [
       "<div>\n",
       "<style scoped>\n",
       "    .dataframe tbody tr th:only-of-type {\n",
       "        vertical-align: middle;\n",
       "    }\n",
       "\n",
       "    .dataframe tbody tr th {\n",
       "        vertical-align: top;\n",
       "    }\n",
       "\n",
       "    .dataframe thead th {\n",
       "        text-align: right;\n",
       "    }\n",
       "</style>\n",
       "<table border=\"1\" class=\"dataframe\">\n",
       "  <thead>\n",
       "    <tr style=\"text-align: right;\">\n",
       "      <th></th>\n",
       "      <th>PassengerId</th>\n",
       "      <th>Survived</th>\n",
       "      <th>Pclass</th>\n",
       "      <th>Name</th>\n",
       "      <th>Sex</th>\n",
       "      <th>Age</th>\n",
       "      <th>SibSp</th>\n",
       "      <th>Parch</th>\n",
       "      <th>Ticket</th>\n",
       "      <th>Fare</th>\n",
       "      <th>Cabin</th>\n",
       "      <th>Embarked</th>\n",
       "    </tr>\n",
       "  </thead>\n",
       "  <tbody>\n",
       "    <tr>\n",
       "      <th>0</th>\n",
       "      <td>1</td>\n",
       "      <td>0</td>\n",
       "      <td>3</td>\n",
       "      <td>Braund, Mr. Owen Harris</td>\n",
       "      <td>male</td>\n",
       "      <td>22.0</td>\n",
       "      <td>1</td>\n",
       "      <td>0</td>\n",
       "      <td>A/5 21171</td>\n",
       "      <td>7.2500</td>\n",
       "      <td>NaN</td>\n",
       "      <td>S</td>\n",
       "    </tr>\n",
       "    <tr>\n",
       "      <th>1</th>\n",
       "      <td>2</td>\n",
       "      <td>1</td>\n",
       "      <td>1</td>\n",
       "      <td>Cumings, Mrs. John Bradley (Florence Briggs Th...</td>\n",
       "      <td>female</td>\n",
       "      <td>38.0</td>\n",
       "      <td>1</td>\n",
       "      <td>0</td>\n",
       "      <td>PC 17599</td>\n",
       "      <td>71.2833</td>\n",
       "      <td>C85</td>\n",
       "      <td>C</td>\n",
       "    </tr>\n",
       "    <tr>\n",
       "      <th>2</th>\n",
       "      <td>3</td>\n",
       "      <td>1</td>\n",
       "      <td>3</td>\n",
       "      <td>Heikkinen, Miss. Laina</td>\n",
       "      <td>female</td>\n",
       "      <td>26.0</td>\n",
       "      <td>0</td>\n",
       "      <td>0</td>\n",
       "      <td>STON/O2. 3101282</td>\n",
       "      <td>7.9250</td>\n",
       "      <td>NaN</td>\n",
       "      <td>S</td>\n",
       "    </tr>\n",
       "    <tr>\n",
       "      <th>3</th>\n",
       "      <td>4</td>\n",
       "      <td>1</td>\n",
       "      <td>1</td>\n",
       "      <td>Futrelle, Mrs. Jacques Heath (Lily May Peel)</td>\n",
       "      <td>female</td>\n",
       "      <td>35.0</td>\n",
       "      <td>1</td>\n",
       "      <td>0</td>\n",
       "      <td>113803</td>\n",
       "      <td>53.1000</td>\n",
       "      <td>C123</td>\n",
       "      <td>S</td>\n",
       "    </tr>\n",
       "    <tr>\n",
       "      <th>4</th>\n",
       "      <td>5</td>\n",
       "      <td>0</td>\n",
       "      <td>3</td>\n",
       "      <td>Allen, Mr. William Henry</td>\n",
       "      <td>male</td>\n",
       "      <td>35.0</td>\n",
       "      <td>0</td>\n",
       "      <td>0</td>\n",
       "      <td>373450</td>\n",
       "      <td>8.0500</td>\n",
       "      <td>NaN</td>\n",
       "      <td>S</td>\n",
       "    </tr>\n",
       "    <tr>\n",
       "      <th>...</th>\n",
       "      <td>...</td>\n",
       "      <td>...</td>\n",
       "      <td>...</td>\n",
       "      <td>...</td>\n",
       "      <td>...</td>\n",
       "      <td>...</td>\n",
       "      <td>...</td>\n",
       "      <td>...</td>\n",
       "      <td>...</td>\n",
       "      <td>...</td>\n",
       "      <td>...</td>\n",
       "      <td>...</td>\n",
       "    </tr>\n",
       "    <tr>\n",
       "      <th>886</th>\n",
       "      <td>887</td>\n",
       "      <td>0</td>\n",
       "      <td>2</td>\n",
       "      <td>Montvila, Rev. Juozas</td>\n",
       "      <td>male</td>\n",
       "      <td>27.0</td>\n",
       "      <td>0</td>\n",
       "      <td>0</td>\n",
       "      <td>211536</td>\n",
       "      <td>13.0000</td>\n",
       "      <td>NaN</td>\n",
       "      <td>S</td>\n",
       "    </tr>\n",
       "    <tr>\n",
       "      <th>887</th>\n",
       "      <td>888</td>\n",
       "      <td>1</td>\n",
       "      <td>1</td>\n",
       "      <td>Graham, Miss. Margaret Edith</td>\n",
       "      <td>female</td>\n",
       "      <td>19.0</td>\n",
       "      <td>0</td>\n",
       "      <td>0</td>\n",
       "      <td>112053</td>\n",
       "      <td>30.0000</td>\n",
       "      <td>B42</td>\n",
       "      <td>S</td>\n",
       "    </tr>\n",
       "    <tr>\n",
       "      <th>888</th>\n",
       "      <td>889</td>\n",
       "      <td>0</td>\n",
       "      <td>3</td>\n",
       "      <td>Johnston, Miss. Catherine Helen \"Carrie\"</td>\n",
       "      <td>female</td>\n",
       "      <td>NaN</td>\n",
       "      <td>1</td>\n",
       "      <td>2</td>\n",
       "      <td>W./C. 6607</td>\n",
       "      <td>23.4500</td>\n",
       "      <td>NaN</td>\n",
       "      <td>S</td>\n",
       "    </tr>\n",
       "    <tr>\n",
       "      <th>889</th>\n",
       "      <td>890</td>\n",
       "      <td>1</td>\n",
       "      <td>1</td>\n",
       "      <td>Behr, Mr. Karl Howell</td>\n",
       "      <td>male</td>\n",
       "      <td>26.0</td>\n",
       "      <td>0</td>\n",
       "      <td>0</td>\n",
       "      <td>111369</td>\n",
       "      <td>30.0000</td>\n",
       "      <td>C148</td>\n",
       "      <td>C</td>\n",
       "    </tr>\n",
       "    <tr>\n",
       "      <th>890</th>\n",
       "      <td>891</td>\n",
       "      <td>0</td>\n",
       "      <td>3</td>\n",
       "      <td>Dooley, Mr. Patrick</td>\n",
       "      <td>male</td>\n",
       "      <td>32.0</td>\n",
       "      <td>0</td>\n",
       "      <td>0</td>\n",
       "      <td>370376</td>\n",
       "      <td>7.7500</td>\n",
       "      <td>NaN</td>\n",
       "      <td>Q</td>\n",
       "    </tr>\n",
       "  </tbody>\n",
       "</table>\n",
       "<p>891 rows × 12 columns</p>\n",
       "</div>"
      ],
      "text/plain": [
       "     PassengerId  Survived  Pclass                                               Name     Sex   Age  SibSp  Parch            Ticket  \\\n",
       "0              1         0       3                            Braund, Mr. Owen Harris    male  22.0      1      0         A/5 21171   \n",
       "1              2         1       1  Cumings, Mrs. John Bradley (Florence Briggs Th...  female  38.0      1      0          PC 17599   \n",
       "2              3         1       3                             Heikkinen, Miss. Laina  female  26.0      0      0  STON/O2. 3101282   \n",
       "3              4         1       1       Futrelle, Mrs. Jacques Heath (Lily May Peel)  female  35.0      1      0            113803   \n",
       "4              5         0       3                           Allen, Mr. William Henry    male  35.0      0      0            373450   \n",
       "..           ...       ...     ...                                                ...     ...   ...    ...    ...               ...   \n",
       "886          887         0       2                              Montvila, Rev. Juozas    male  27.0      0      0            211536   \n",
       "887          888         1       1                       Graham, Miss. Margaret Edith  female  19.0      0      0            112053   \n",
       "888          889         0       3           Johnston, Miss. Catherine Helen \"Carrie\"  female   NaN      1      2        W./C. 6607   \n",
       "889          890         1       1                              Behr, Mr. Karl Howell    male  26.0      0      0            111369   \n",
       "890          891         0       3                                Dooley, Mr. Patrick    male  32.0      0      0            370376   \n",
       "\n",
       "        Fare Cabin Embarked  \n",
       "0     7.2500   NaN        S  \n",
       "1    71.2833   C85        C  \n",
       "2     7.9250   NaN        S  \n",
       "3    53.1000  C123        S  \n",
       "4     8.0500   NaN        S  \n",
       "..       ...   ...      ...  \n",
       "886  13.0000   NaN        S  \n",
       "887  30.0000   B42        S  \n",
       "888  23.4500   NaN        S  \n",
       "889  30.0000  C148        C  \n",
       "890   7.7500   NaN        Q  \n",
       "\n",
       "[891 rows x 12 columns]"
      ]
     },
     "execution_count": 4,
     "metadata": {},
     "output_type": "execute_result"
    }
   ],
   "source": [
    "df"
   ]
  },
  {
   "cell_type": "markdown",
   "id": "e4d0a47a-edb1-4a98-aec7-48c3356259c5",
   "metadata": {},
   "source": [
    "# Wrangling\n",
    "\n",
    "Handle missing values, categorical values, etc."
   ]
  },
  {
   "cell_type": "code",
   "execution_count": 5,
   "id": "5e4f4973-e91d-47dc-8f45-dabd0a550da0",
   "metadata": {},
   "outputs": [
    {
     "data": {
      "text/html": [
       "<div>\n",
       "<style scoped>\n",
       "    .dataframe tbody tr th:only-of-type {\n",
       "        vertical-align: middle;\n",
       "    }\n",
       "\n",
       "    .dataframe tbody tr th {\n",
       "        vertical-align: top;\n",
       "    }\n",
       "\n",
       "    .dataframe thead th {\n",
       "        text-align: right;\n",
       "    }\n",
       "</style>\n",
       "<table border=\"1\" class=\"dataframe\">\n",
       "  <thead>\n",
       "    <tr style=\"text-align: right;\">\n",
       "      <th></th>\n",
       "      <th>PassengerId</th>\n",
       "      <th>Survived</th>\n",
       "      <th>Pclass</th>\n",
       "      <th>Age</th>\n",
       "      <th>SibSp</th>\n",
       "      <th>Parch</th>\n",
       "      <th>Fare</th>\n",
       "    </tr>\n",
       "  </thead>\n",
       "  <tbody>\n",
       "    <tr>\n",
       "      <th>count</th>\n",
       "      <td>891.000000</td>\n",
       "      <td>891.000000</td>\n",
       "      <td>891.000000</td>\n",
       "      <td>714.000000</td>\n",
       "      <td>891.000000</td>\n",
       "      <td>891.000000</td>\n",
       "      <td>891.000000</td>\n",
       "    </tr>\n",
       "    <tr>\n",
       "      <th>mean</th>\n",
       "      <td>446.000000</td>\n",
       "      <td>0.383838</td>\n",
       "      <td>2.308642</td>\n",
       "      <td>29.699118</td>\n",
       "      <td>0.523008</td>\n",
       "      <td>0.381594</td>\n",
       "      <td>32.204208</td>\n",
       "    </tr>\n",
       "    <tr>\n",
       "      <th>std</th>\n",
       "      <td>257.353842</td>\n",
       "      <td>0.486592</td>\n",
       "      <td>0.836071</td>\n",
       "      <td>14.526497</td>\n",
       "      <td>1.102743</td>\n",
       "      <td>0.806057</td>\n",
       "      <td>49.693429</td>\n",
       "    </tr>\n",
       "    <tr>\n",
       "      <th>min</th>\n",
       "      <td>1.000000</td>\n",
       "      <td>0.000000</td>\n",
       "      <td>1.000000</td>\n",
       "      <td>0.420000</td>\n",
       "      <td>0.000000</td>\n",
       "      <td>0.000000</td>\n",
       "      <td>0.000000</td>\n",
       "    </tr>\n",
       "    <tr>\n",
       "      <th>25%</th>\n",
       "      <td>223.500000</td>\n",
       "      <td>0.000000</td>\n",
       "      <td>2.000000</td>\n",
       "      <td>20.125000</td>\n",
       "      <td>0.000000</td>\n",
       "      <td>0.000000</td>\n",
       "      <td>7.910400</td>\n",
       "    </tr>\n",
       "    <tr>\n",
       "      <th>50%</th>\n",
       "      <td>446.000000</td>\n",
       "      <td>0.000000</td>\n",
       "      <td>3.000000</td>\n",
       "      <td>28.000000</td>\n",
       "      <td>0.000000</td>\n",
       "      <td>0.000000</td>\n",
       "      <td>14.454200</td>\n",
       "    </tr>\n",
       "    <tr>\n",
       "      <th>75%</th>\n",
       "      <td>668.500000</td>\n",
       "      <td>1.000000</td>\n",
       "      <td>3.000000</td>\n",
       "      <td>38.000000</td>\n",
       "      <td>1.000000</td>\n",
       "      <td>0.000000</td>\n",
       "      <td>31.000000</td>\n",
       "    </tr>\n",
       "    <tr>\n",
       "      <th>max</th>\n",
       "      <td>891.000000</td>\n",
       "      <td>1.000000</td>\n",
       "      <td>3.000000</td>\n",
       "      <td>80.000000</td>\n",
       "      <td>8.000000</td>\n",
       "      <td>6.000000</td>\n",
       "      <td>512.329200</td>\n",
       "    </tr>\n",
       "  </tbody>\n",
       "</table>\n",
       "</div>"
      ],
      "text/plain": [
       "       PassengerId    Survived      Pclass         Age       SibSp       Parch        Fare\n",
       "count   891.000000  891.000000  891.000000  714.000000  891.000000  891.000000  891.000000\n",
       "mean    446.000000    0.383838    2.308642   29.699118    0.523008    0.381594   32.204208\n",
       "std     257.353842    0.486592    0.836071   14.526497    1.102743    0.806057   49.693429\n",
       "min       1.000000    0.000000    1.000000    0.420000    0.000000    0.000000    0.000000\n",
       "25%     223.500000    0.000000    2.000000   20.125000    0.000000    0.000000    7.910400\n",
       "50%     446.000000    0.000000    3.000000   28.000000    0.000000    0.000000   14.454200\n",
       "75%     668.500000    1.000000    3.000000   38.000000    1.000000    0.000000   31.000000\n",
       "max     891.000000    1.000000    3.000000   80.000000    8.000000    6.000000  512.329200"
      ]
     },
     "execution_count": 5,
     "metadata": {},
     "output_type": "execute_result"
    }
   ],
   "source": [
    "df.describe()"
   ]
  },
  {
   "cell_type": "code",
   "execution_count": 6,
   "id": "8e53b0f1-8a29-4365-b06d-2da349eaf0c9",
   "metadata": {},
   "outputs": [
    {
     "data": {
      "text/plain": [
       "<AxesSubplot:>"
      ]
     },
     "execution_count": 6,
     "metadata": {},
     "output_type": "execute_result"
    },
    {
     "data": {
      "image/png": "[encoded data removed]",
      "text/plain": [
       "<Figure size 640x480 with 1 Axes>"
      ]
     },
     "metadata": {},
     "output_type": "display_data"
    }
   ],
   "source": [
    "df.Fare.hist()"
   ]
  },
  {
   "cell_type": "markdown",
   "id": "2db21722-167f-4ab7-a05f-420a62b23161",
   "metadata": {},
   "source": [
    "Fare is a monetary value, best handled using log and then normalized."
   ]
  },
  {
   "cell_type": "code",
   "execution_count": 7,
   "id": "264873b3-b192-4bf2-a281-13ce7cb34f41",
   "metadata": {},
   "outputs": [
    {
     "data": {
      "text/html": [
       "<div>\n",
       "<style scoped>\n",
       "    .dataframe tbody tr th:only-of-type {\n",
       "        vertical-align: middle;\n",
       "    }\n",
       "\n",
       "    .dataframe tbody tr th {\n",
       "        vertical-align: top;\n",
       "    }\n",
       "\n",
       "    .dataframe thead th {\n",
       "        text-align: right;\n",
       "    }\n",
       "</style>\n",
       "<table border=\"1\" class=\"dataframe\">\n",
       "  <thead>\n",
       "    <tr style=\"text-align: right;\">\n",
       "      <th></th>\n",
       "      <th>Name</th>\n",
       "      <th>Sex</th>\n",
       "      <th>Ticket</th>\n",
       "      <th>Cabin</th>\n",
       "      <th>Embarked</th>\n",
       "    </tr>\n",
       "  </thead>\n",
       "  <tbody>\n",
       "    <tr>\n",
       "      <th>count</th>\n",
       "      <td>891</td>\n",
       "      <td>891</td>\n",
       "      <td>891</td>\n",
       "      <td>204</td>\n",
       "      <td>889</td>\n",
       "    </tr>\n",
       "    <tr>\n",
       "      <th>unique</th>\n",
       "      <td>891</td>\n",
       "      <td>2</td>\n",
       "      <td>681</td>\n",
       "      <td>147</td>\n",
       "      <td>3</td>\n",
       "    </tr>\n",
       "    <tr>\n",
       "      <th>top</th>\n",
       "      <td>Braund, Mr. Owen Harris</td>\n",
       "      <td>male</td>\n",
       "      <td>347082</td>\n",
       "      <td>B96 B98</td>\n",
       "      <td>S</td>\n",
       "    </tr>\n",
       "    <tr>\n",
       "      <th>freq</th>\n",
       "      <td>1</td>\n",
       "      <td>577</td>\n",
       "      <td>7</td>\n",
       "      <td>4</td>\n",
       "      <td>644</td>\n",
       "    </tr>\n",
       "  </tbody>\n",
       "</table>\n",
       "</div>"
      ],
      "text/plain": [
       "                           Name   Sex  Ticket    Cabin Embarked\n",
       "count                       891   891     891      204      889\n",
       "unique                      891     2     681      147        3\n",
       "top     Braund, Mr. Owen Harris  male  347082  B96 B98        S\n",
       "freq                          1   577       7        4      644"
      ]
     },
     "execution_count": 7,
     "metadata": {},
     "output_type": "execute_result"
    }
   ],
   "source": [
    "df.describe(include=object)"
   ]
  },
  {
   "cell_type": "markdown",
   "id": "bdfccdd7-b179-448b-bdd2-f083c8c7f913",
   "metadata": {},
   "source": [
    "Sex and Embarked are categoricals with only 2 and 3 unique values. "
   ]
  },
  {
   "cell_type": "code",
   "execution_count": 8,
   "id": "0f37fc32-b3d3-4b3f-9fe5-586ccaff3d00",
   "metadata": {},
   "outputs": [
    {
     "data": {
      "text/plain": [
       "PassengerId      0\n",
       "Survived         0\n",
       "Pclass           0\n",
       "Name             0\n",
       "Sex              0\n",
       "Age            177\n",
       "SibSp            0\n",
       "Parch            0\n",
       "Ticket           0\n",
       "Fare             0\n",
       "Cabin          687\n",
       "Embarked         2\n",
       "dtype: int64"
      ]
     },
     "execution_count": 8,
     "metadata": {},
     "output_type": "execute_result"
    }
   ],
   "source": [
    "df.isna().sum()"
   ]
  },
  {
   "cell_type": "markdown",
   "id": "443fa64b-029d-435e-b347-515e5a8ec43f",
   "metadata": {},
   "source": [
    "Handle missing values using the modes of the columns."
   ]
  },
  {
   "cell_type": "code",
   "execution_count": 9,
   "id": "77840792-bb0e-40de-a9d1-2d3d832b5c8d",
   "metadata": {},
   "outputs": [],
   "source": [
    "modes = df.mode().iloc[0]"
   ]
  },
  {
   "cell_type": "code",
   "execution_count": 10,
   "id": "a1a2647b-0928-4363-9caf-95f7aad5aa38",
   "metadata": {},
   "outputs": [],
   "source": [
    "df = df.fillna(modes)"
   ]
  },
  {
   "cell_type": "code",
   "execution_count": 11,
   "id": "73412352-815f-4f49-97ff-524b6ac71aef",
   "metadata": {},
   "outputs": [
    {
     "data": {
      "text/plain": [
       "<AxesSubplot:>"
      ]
     },
     "execution_count": 11,
     "metadata": {},
     "output_type": "execute_result"
    },
    {
     "data": {
      "image/png": "[encoded data removed]",
      "text/plain": [
       "<Figure size 640x480 with 1 Axes>"
      ]
     },
     "metadata": {},
     "output_type": "display_data"
    }
   ],
   "source": [
    "df.Fare.apply(np.log1p).hist()"
   ]
  },
  {
   "cell_type": "code",
   "execution_count": 12,
   "id": "d0537628-6612-4ed9-bb2b-db53c72a1019",
   "metadata": {},
   "outputs": [],
   "source": [
    "df.Fare = df.Fare.apply(np.log1p)"
   ]
  },
  {
   "cell_type": "code",
   "execution_count": 13,
   "id": "ad053c86-4cd5-42b1-8479-6368fab16bbd",
   "metadata": {},
   "outputs": [
    {
     "data": {
      "text/html": [
       "<div>\n",
       "<style scoped>\n",
       "    .dataframe tbody tr th:only-of-type {\n",
       "        vertical-align: middle;\n",
       "    }\n",
       "\n",
       "    .dataframe tbody tr th {\n",
       "        vertical-align: top;\n",
       "    }\n",
       "\n",
       "    .dataframe thead th {\n",
       "        text-align: right;\n",
       "    }\n",
       "</style>\n",
       "<table border=\"1\" class=\"dataframe\">\n",
       "  <thead>\n",
       "    <tr style=\"text-align: right;\">\n",
       "      <th></th>\n",
       "      <th>PassengerId</th>\n",
       "      <th>Survived</th>\n",
       "      <th>Pclass</th>\n",
       "      <th>Name</th>\n",
       "      <th>Sex</th>\n",
       "      <th>Age</th>\n",
       "      <th>SibSp</th>\n",
       "      <th>Parch</th>\n",
       "      <th>Ticket</th>\n",
       "      <th>Fare</th>\n",
       "      <th>Cabin</th>\n",
       "      <th>Embarked</th>\n",
       "    </tr>\n",
       "  </thead>\n",
       "  <tbody>\n",
       "    <tr>\n",
       "      <th>0</th>\n",
       "      <td>1</td>\n",
       "      <td>0</td>\n",
       "      <td>3</td>\n",
       "      <td>Braund, Mr. Owen Harris</td>\n",
       "      <td>male</td>\n",
       "      <td>22.0</td>\n",
       "      <td>1</td>\n",
       "      <td>0</td>\n",
       "      <td>A/5 21171</td>\n",
       "      <td>2.110213</td>\n",
       "      <td>B96 B98</td>\n",
       "      <td>S</td>\n",
       "    </tr>\n",
       "    <tr>\n",
       "      <th>1</th>\n",
       "      <td>2</td>\n",
       "      <td>1</td>\n",
       "      <td>1</td>\n",
       "      <td>Cumings, Mrs. John Bradley (Florence Briggs Th...</td>\n",
       "      <td>female</td>\n",
       "      <td>38.0</td>\n",
       "      <td>1</td>\n",
       "      <td>0</td>\n",
       "      <td>PC 17599</td>\n",
       "      <td>4.280593</td>\n",
       "      <td>C85</td>\n",
       "      <td>C</td>\n",
       "    </tr>\n",
       "    <tr>\n",
       "      <th>2</th>\n",
       "      <td>3</td>\n",
       "      <td>1</td>\n",
       "      <td>3</td>\n",
       "      <td>Heikkinen, Miss. Laina</td>\n",
       "      <td>female</td>\n",
       "      <td>26.0</td>\n",
       "      <td>0</td>\n",
       "      <td>0</td>\n",
       "      <td>STON/O2. 3101282</td>\n",
       "      <td>2.188856</td>\n",
       "      <td>B96 B98</td>\n",
       "      <td>S</td>\n",
       "    </tr>\n",
       "    <tr>\n",
       "      <th>3</th>\n",
       "      <td>4</td>\n",
       "      <td>1</td>\n",
       "      <td>1</td>\n",
       "      <td>Futrelle, Mrs. Jacques Heath (Lily May Peel)</td>\n",
       "      <td>female</td>\n",
       "      <td>35.0</td>\n",
       "      <td>1</td>\n",
       "      <td>0</td>\n",
       "      <td>113803</td>\n",
       "      <td>3.990834</td>\n",
       "      <td>C123</td>\n",
       "      <td>S</td>\n",
       "    </tr>\n",
       "    <tr>\n",
       "      <th>4</th>\n",
       "      <td>5</td>\n",
       "      <td>0</td>\n",
       "      <td>3</td>\n",
       "      <td>Allen, Mr. William Henry</td>\n",
       "      <td>male</td>\n",
       "      <td>35.0</td>\n",
       "      <td>0</td>\n",
       "      <td>0</td>\n",
       "      <td>373450</td>\n",
       "      <td>2.202765</td>\n",
       "      <td>B96 B98</td>\n",
       "      <td>S</td>\n",
       "    </tr>\n",
       "  </tbody>\n",
       "</table>\n",
       "</div>"
      ],
      "text/plain": [
       "   PassengerId  Survived  Pclass                                               Name     Sex   Age  SibSp  Parch            Ticket  \\\n",
       "0            1         0       3                            Braund, Mr. Owen Harris    male  22.0      1      0         A/5 21171   \n",
       "1            2         1       1  Cumings, Mrs. John Bradley (Florence Briggs Th...  female  38.0      1      0          PC 17599   \n",
       "2            3         1       3                             Heikkinen, Miss. Laina  female  26.0      0      0  STON/O2. 3101282   \n",
       "3            4         1       1       Futrelle, Mrs. Jacques Heath (Lily May Peel)  female  35.0      1      0            113803   \n",
       "4            5         0       3                           Allen, Mr. William Henry    male  35.0      0      0            373450   \n",
       "\n",
       "       Fare    Cabin Embarked  \n",
       "0  2.110213  B96 B98        S  \n",
       "1  4.280593      C85        C  \n",
       "2  2.188856  B96 B98        S  \n",
       "3  3.990834     C123        S  \n",
       "4  2.202765  B96 B98        S  "
      ]
     },
     "execution_count": 13,
     "metadata": {},
     "output_type": "execute_result"
    }
   ],
   "source": [
    "df.head()"
   ]
  },
  {
   "cell_type": "code",
   "execution_count": 14,
   "id": "db1cbc30-bff1-44f1-b799-afc9377d69e8",
   "metadata": {},
   "outputs": [],
   "source": [
    "cats = ['Sex', 'Pclass', 'Embarked']\n",
    "df = pd.get_dummies(df, columns=cats)"
   ]
  },
  {
   "cell_type": "code",
   "execution_count": 15,
   "id": "3ddbe6b4-271b-4abc-933f-88c5a65e0665",
   "metadata": {},
   "outputs": [],
   "source": [
    "drop_cols = ['PassengerId', 'Name', 'Ticket', 'Cabin']\n",
    "df = df.drop(columns=drop_cols)"
   ]
  },
  {
   "cell_type": "code",
   "execution_count": 16,
   "id": "3bd5d7ab-2476-4728-802f-42b760153f96",
   "metadata": {},
   "outputs": [],
   "source": [
    "# normalize\n",
    "maxes = df.max()\n",
    "df = df.div(maxes)"
   ]
  },
  {
   "cell_type": "code",
   "execution_count": 17,
   "id": "6e9f3fad-41cb-47a7-921a-7c0d2031e5d1",
   "metadata": {},
   "outputs": [],
   "source": [
    "# variable must be defined on train set:\n",
    "#   modes\n",
    "#   maxes\n",
    "\n",
    "def preprocess(df):\n",
    "    cats = ['Sex', 'Pclass', 'Embarked']\n",
    "    drop_cols = ['PassengerId', 'Name', 'Ticket', 'Cabin']\n",
    "    \n",
    "    df.Fare = df.Fare.apply(np.log1p)\n",
    "    \n",
    "    df = df.fillna(modes)\n",
    "    \n",
    "    df = pd.get_dummies(df, columns=cats)\n",
    "    \n",
    "    df = (df.drop(columns=drop_cols)\n",
    "            .div(maxes)\n",
    "         )\n",
    "    \n",
    "    \n",
    "    return df"
   ]
  },
  {
   "cell_type": "code",
   "execution_count": 18,
   "id": "5aea815e-15c4-4565-a4ea-05f75952b6f0",
   "metadata": {},
   "outputs": [],
   "source": [
    "comp = df.copy()"
   ]
  },
  {
   "cell_type": "code",
   "execution_count": 19,
   "id": "5881adf5-3aef-4211-9561-01b94c6afc7a",
   "metadata": {},
   "outputs": [],
   "source": [
    "df = pd.read_csv(path/'train.csv')\n",
    "df_test = pd.read_csv(path/'test.csv')"
   ]
  },
  {
   "cell_type": "code",
   "execution_count": 20,
   "id": "9cf41fa9-f53f-4f09-b2b1-1d3ef8e7b914",
   "metadata": {},
   "outputs": [
    {
     "data": {
      "text/plain": [
       "Survived      891\n",
       "Age           891\n",
       "SibSp         891\n",
       "Parch         891\n",
       "Fare          891\n",
       "Sex_female    891\n",
       "Sex_male      891\n",
       "Pclass_1      891\n",
       "Pclass_2      891\n",
       "Pclass_3      891\n",
       "Embarked_C    891\n",
       "Embarked_Q    891\n",
       "Embarked_S    891\n",
       "dtype: int64"
      ]
     },
     "execution_count": 20,
     "metadata": {},
     "output_type": "execute_result"
    }
   ],
   "source": [
    "df = preprocess(df)\n",
    "\n",
    "(df == comp).sum()"
   ]
  },
  {
   "cell_type": "markdown",
   "id": "27bb112f-91d9-4a3c-8381-f502ef781d5d",
   "metadata": {},
   "source": [
    "train/valid split, and into tensors"
   ]
  },
  {
   "cell_type": "code",
   "execution_count": 22,
   "id": "7659fd59-0223-458d-ac37-96ca8aef3097",
   "metadata": {},
   "outputs": [],
   "source": [
    "from fastai.data.transforms import RandomSplitter\n",
    "from torch import tensor\n",
    "\n",
    "# see docs at https://docs.fast.ai/data.transforms.html\n",
    "train_idx, valid_idx = RandomSplitter(valid_pct=0.2, seed=42)(df)\n",
    "\n",
    "X_train, y_train = df.iloc[train_idx].drop(columns=['Survived']), df.iloc[train_idx]['Survived']\n",
    "X_valid, y_valid = df.iloc[valid_idx].drop(columns=['Survived']), df.iloc[valid_idx]['Survived']\n",
    "\n",
    "X_train = tensor(X_train.values, dtype=torch.float)\n",
    "X_valid = tensor(X_valid.values, dtype=torch.float)\n",
    "y_train = tensor(y_train.values, dtype=torch.float)\n",
    "y_valid = tensor(y_valid.values, dtype=torch.float)"
   ]
  },
  {
   "cell_type": "markdown",
   "id": "99ff2b92-31e2-42ee-93d2-0baa9995a60a",
   "metadata": {},
   "source": [
    "# Create linear learner"
   ]
  },
  {
   "cell_type": "markdown",
   "id": "f38bd3c9-f22c-47cf-9e30-7952bddfa556",
   "metadata": {},
   "source": [
    "Ok let's remember what we're even doing here. For a linear learner, we're going to need a set of randomly initialized weights equal in size to the length of the input. We're going to need a constant bias term (either a ones col, or just an extra param). We're going to need need a loss function, calculate gradients according to that loss, and a way of updating weights based on the gradients. Loop over epochs, print out loss and print out validation accuracy. Let's give it a whirl.\n",
    "\n",
    "(After doing all that, THEN I'll go back and see whether I missed anything.)"
   ]
  },
  {
   "cell_type": "code",
   "execution_count": 23,
   "id": "2743fadd-96f5-4bd2-bee9-8cc90a3ca181",
   "metadata": {},
   "outputs": [
    {
     "data": {
      "text/plain": [
       "12"
      ]
     },
     "execution_count": 23,
     "metadata": {},
     "output_type": "execute_result"
    }
   ],
   "source": [
    "X_train.shape[1]"
   ]
  },
  {
   "cell_type": "code",
   "execution_count": 24,
   "id": "8edfb10c-bf35-4761-ab7f-9a2274c9dd7d",
   "metadata": {},
   "outputs": [
    {
     "data": {
      "text/plain": [
       "(tensor([ 0.8738, -0.1948,  1.1477, -0.6449,  1.3456,  0.0802, -1.3830, -1.1722,  0.3663,  1.5820,  0.6060, -0.4627]),\n",
       " tensor([0.3514]))"
      ]
     },
     "execution_count": 24,
     "metadata": {},
     "output_type": "execute_result"
    }
   ],
   "source": [
    "weights = torch.randn(X_train.shape[1])\n",
    "bias = torch.randn(1)\n",
    "weights, bias"
   ]
  },
  {
   "cell_type": "code",
   "execution_count": 26,
   "id": "9373712d-679b-439d-9a14-df0ca7fe338e",
   "metadata": {},
   "outputs": [],
   "source": [
    "def init_params():\n",
    "    weights = torch.randn(X_train.shape[1]).requires_grad_()\n",
    "    bias = torch.randn(1).requires_grad_()\n",
    "    return weights, bias"
   ]
  },
  {
   "cell_type": "code",
   "execution_count": 27,
   "id": "41423512-6f0f-44fb-9417-58474fa912a8",
   "metadata": {},
   "outputs": [
    {
     "data": {
      "text/plain": [
       "(tensor([-0.7849, -0.8169,  1.3036, -1.8624, -1.0653, -0.0830, -1.2250, -0.0515, -0.5433,  1.7597, -1.4369, -0.9020], requires_grad=True),\n",
       " tensor([-1.9090], requires_grad=True))"
      ]
     },
     "execution_count": 27,
     "metadata": {},
     "output_type": "execute_result"
    }
   ],
   "source": [
    "weights, bias = init_params()\n",
    "weights, bias"
   ]
  },
  {
   "cell_type": "markdown",
   "id": "97551ebe-be90-4e3f-9e47-ec26fa4ff131",
   "metadata": {},
   "source": [
    "for loss, we'll use mean absolute error. this is called the L1 loss. we can define this ourselves, or use the torch.nn.L1Loss function\n",
    "```loss = nn.L1Loss()```"
   ]
  },
  {
   "cell_type": "code",
   "execution_count": 28,
   "id": "c6f2e50d-1138-4b3c-ba58-ed0923421562",
   "metadata": {},
   "outputs": [],
   "source": [
    "def mean_abs_error(preds, target):\n",
    "    return torch.abs(target-preds).mean()\n",
    "\n",
    "loss_fn = mean_abs_error\n",
    "\n",
    "# import torch.nn as nn\n",
    "# loss_func = nn.L1Loss()"
   ]
  },
  {
   "cell_type": "markdown",
   "id": "644c184c-60d7-42a6-ad93-1d6b3fa5e341",
   "metadata": {},
   "source": [
    "so to compute the forward preds, we need to multiple all the inputs by the weights, plus the bias, and sum across rows. let's try this..."
   ]
  },
  {
   "cell_type": "code",
   "execution_count": 29,
   "id": "37c2c07d-14a1-4c47-a514-bd426cd6f9ca",
   "metadata": {},
   "outputs": [],
   "source": [
    "preds = X_train@weights + bias\n",
    "preds = torch.sigmoid(preds)"
   ]
  },
  {
   "cell_type": "code",
   "execution_count": 31,
   "id": "d41982d5-b5b4-40ca-bba7-b90c33791aa8",
   "metadata": {},
   "outputs": [
    {
     "data": {
      "text/plain": [
       "tensor(0.3860, grad_fn=<MeanBackward0>)"
      ]
     },
     "execution_count": 31,
     "metadata": {},
     "output_type": "execute_result"
    }
   ],
   "source": [
    "loss_fn(preds, y_train)"
   ]
  },
  {
   "cell_type": "code",
   "execution_count": 32,
   "id": "3dafdd81-5f7a-419d-9710-7b7289b71207",
   "metadata": {},
   "outputs": [],
   "source": [
    "loss = loss_fn(preds, y_train)"
   ]
  },
  {
   "cell_type": "code",
   "execution_count": 33,
   "id": "f6a81519-a666-44ea-a394-fe0d635de700",
   "metadata": {},
   "outputs": [
    {
     "data": {
      "text/plain": [
       "(tensor([ 0.0029,  0.0001, -0.0002,  0.0021, -0.0024,  0.0090, -0.0001,  0.0006,  0.0062,  0.0027,  0.0002,  0.0037]),\n",
       " tensor([0.0066]))"
      ]
     },
     "execution_count": 33,
     "metadata": {},
     "output_type": "execute_result"
    }
   ],
   "source": [
    "loss.backward()\n",
    "weights.grad, bias.grad"
   ]
  },
  {
   "cell_type": "code",
   "execution_count": 34,
   "id": "b6187383-df8f-4443-87a2-98b3ec793f16",
   "metadata": {},
   "outputs": [],
   "source": [
    "lr = 1e-5"
   ]
  },
  {
   "cell_type": "code",
   "execution_count": 35,
   "id": "d7474309-989d-4114-9214-c2e54c4996e8",
   "metadata": {},
   "outputs": [],
   "source": [
    "params = [weights, bias]\n",
    "for p in params:\n",
    "    p.data -= p.grad * lr\n",
    "    p.grad.zero_()"
   ]
  },
  {
   "cell_type": "code",
   "execution_count": 36,
   "id": "59b72d3a-6959-43ab-846c-f027226623b5",
   "metadata": {},
   "outputs": [],
   "source": [
    "# how do we get the accuracy? \n",
    "preds_valid = X_valid@weights + bias\n",
    "preds_valid = torch.sigmoid(preds_valid)"
   ]
  },
  {
   "cell_type": "code",
   "execution_count": 57,
   "id": "ec8c9410-7ce0-4d2a-b5d1-a149766ac595",
   "metadata": {},
   "outputs": [],
   "source": [
    "def forward(X, weights, biases):\n",
    "    preds = X@weights + biases\n",
    "    preds = torch.sigmoid(preds)\n",
    "    return preds"
   ]
  },
  {
   "cell_type": "code",
   "execution_count": 86,
   "id": "84603ae5-1aec-4805-9a5c-98270b65c425",
   "metadata": {},
   "outputs": [],
   "source": [
    "def acc_fn(preds, target):\n",
    "    acc = (target.bool() == (preds>0.5)).float().mean()\n",
    "    return acc\n",
    "\n",
    "acc = acc_fn(preds_valid, y_valid)"
   ]
  },
  {
   "cell_type": "markdown",
   "id": "d0748a51-ab88-4868-a95e-75d07c509f78",
   "metadata": {},
   "source": [
    "Ok I think I have all the pieces - let's see if we can run this multiple times and converge."
   ]
  },
  {
   "cell_type": "code",
   "execution_count": 97,
   "id": "ab8c30f4-a672-4559-a17a-ab98e004b7fc",
   "metadata": {},
   "outputs": [],
   "source": [
    "def train_model(epochs=20, lr=60):\n",
    "    weights, biases = init_params()\n",
    "    \n",
    "    for n in range(epochs):\n",
    "        preds = forward(X_train, weights, biases)\n",
    "        loss = loss_fn(preds, y_train)\n",
    "        loss.backward()\n",
    "        for p in [weights, biases]:\n",
    "            p.data -= p.grad * lr\n",
    "            p.grad.zero_()\n",
    "            \n",
    "        with torch.no_grad():\n",
    "            preds_valid = forward(X_valid, weights, biases)\n",
    "            acc = acc_fn(preds_valid, y_valid)\n",
    "        \n",
    "        print(f'Epoch: {n}. Loss: {loss:.4f}. Valid acc: {acc:.4f}')"
   ]
  },
  {
   "cell_type": "code",
   "execution_count": 98,
   "id": "a456dc48-21f4-4c8d-9a8b-ad1e3b68bb0f",
   "metadata": {},
   "outputs": [
    {
     "name": "stdout",
     "output_type": "stream",
     "text": [
      "Epoch: 0. Loss: 0.6008. Valid acc: 0.7921\n",
      "Epoch: 1. Loss: 0.3191. Valid acc: 0.6404\n",
      "Epoch: 2. Loss: 0.3454. Valid acc: 0.8202\n",
      "Epoch: 3. Loss: 0.2327. Valid acc: 0.7921\n",
      "Epoch: 4. Loss: 0.2208. Valid acc: 0.8034\n",
      "Epoch: 5. Loss: 0.2093. Valid acc: 0.8371\n",
      "Epoch: 6. Loss: 0.2055. Valid acc: 0.8258\n",
      "Epoch: 7. Loss: 0.2045. Valid acc: 0.8258\n",
      "Epoch: 8. Loss: 0.2036. Valid acc: 0.8258\n",
      "Epoch: 9. Loss: 0.2029. Valid acc: 0.8258\n",
      "Epoch: 10. Loss: 0.2023. Valid acc: 0.8258\n",
      "Epoch: 11. Loss: 0.2017. Valid acc: 0.8258\n",
      "Epoch: 12. Loss: 0.2012. Valid acc: 0.8258\n",
      "Epoch: 13. Loss: 0.2008. Valid acc: 0.8258\n",
      "Epoch: 14. Loss: 0.2004. Valid acc: 0.8258\n",
      "Epoch: 15. Loss: 0.2001. Valid acc: 0.8258\n",
      "Epoch: 16. Loss: 0.1997. Valid acc: 0.8258\n",
      "Epoch: 17. Loss: 0.1995. Valid acc: 0.8258\n",
      "Epoch: 18. Loss: 0.1992. Valid acc: 0.8258\n",
      "Epoch: 19. Loss: 0.1989. Valid acc: 0.8258\n"
     ]
    }
   ],
   "source": [
    "train_model()"
   ]
  },
  {
   "cell_type": "markdown",
   "id": "cd74ebec-8123-4f8c-ab06-d59511dc1942",
   "metadata": {},
   "source": [
    "Lessons learned: \n",
    "- value initialization really matters. initial learning rate of 1e-5 had me worried that the code wasn't working at all. learning rate of 50 ended up working best.\n",
    "- variable scoping. jesus. related to initial learning rate problem. "
   ]
  },
  {
   "cell_type": "markdown",
   "id": "3c1060e0-2329-4040-840e-c4c208e52f10",
   "metadata": {},
   "source": [
    "# Create 2-layer neural network"
   ]
  },
  {
   "cell_type": "markdown",
   "id": "3f4e9b41-df2d-4e3c-beab-c7f3f5cf4c74",
   "metadata": {},
   "source": [
    "Alright so now we want to do two layers with a non-linear activation between. let's figure out how to structure this with code. not much is going to need to change..."
   ]
  },
  {
   "cell_type": "code",
   "execution_count": 108,
   "id": "c964f1c1-ab48-449d-b44b-69ff49fb533a",
   "metadata": {},
   "outputs": [],
   "source": [
    "n_hidden = 10\n",
    "w1 = torch.randn(X_train.shape[1], n_hidden).requires_grad_()\n",
    "w2 = torch.randn(n_hidden).requires_grad_()\n",
    "weights = [w1, w2]"
   ]
  },
  {
   "cell_type": "code",
   "execution_count": 190,
   "id": "b97e9812-17c7-4dd9-8984-1a1720455abb",
   "metadata": {},
   "outputs": [],
   "source": [
    "import torch.nn as nn\n",
    "import torch.nn.functional as F\n",
    "loss_fn = nn.L1Loss()\n",
    "\n",
    "def init_params():\n",
    "    n_hidden = 10\n",
    "    w1 = torch.randn(X_train.shape[1], n_hidden).requires_grad_()\n",
    "    w2 = torch.randn(n_hidden).requires_grad_()\n",
    "    weights = [w1, w2]\n",
    "    biases = [torch.randn(1)[0].requires_grad_(), torch.randn(1)[0].requires_grad_()]\n",
    "    return weights, biases\n",
    "\n",
    "def forward(X, params):\n",
    "    weights, biases = params\n",
    "    preds = X@weights[0] + biases[0]\n",
    "    preds = F.relu(preds)\n",
    "    preds = preds@weights[1] + biases[1]\n",
    "    preds = torch.sigmoid(preds)\n",
    "    return preds\n",
    "\n",
    "# no change\n",
    "def acc_fn(preds, target):\n",
    "    acc = (target.bool() == (preds>0.5)).float().mean()\n",
    "    return acc\n",
    "\n",
    "def train_model(epochs=20, lr=10):\n",
    "    params = init_params()\n",
    "    weights, biases = params\n",
    "    \n",
    "    for n in range(epochs):\n",
    "        preds = forward(X_train, params)\n",
    "        loss = loss_fn(preds, y_train)\n",
    "        loss.backward()\n",
    "        for p in weights+biases:\n",
    "            p.data -= p.grad * lr\n",
    "            p.grad.zero_()\n",
    "            \n",
    "        with torch.no_grad():\n",
    "            preds_valid = forward(X_valid, params)\n",
    "            acc = acc_fn(preds_valid, y_valid)\n",
    "        \n",
    "        print(f'Epoch: {n}. Loss: {loss:.4f}. Valid acc: {acc:.4f}')"
   ]
  },
  {
   "cell_type": "code",
   "execution_count": 197,
   "id": "50c76f3b-52e2-44b1-992a-7a914b3719b6",
   "metadata": {},
   "outputs": [
    {
     "name": "stdout",
     "output_type": "stream",
     "text": [
      "Epoch: 0. Loss: 0.6109. Valid acc: 0.4101\n",
      "Epoch: 1. Loss: 0.5584. Valid acc: 0.7584\n",
      "Epoch: 2. Loss: 0.3520. Valid acc: 0.8202\n",
      "Epoch: 3. Loss: 0.2465. Valid acc: 0.8258\n",
      "Epoch: 4. Loss: 0.2173. Valid acc: 0.8202\n",
      "Epoch: 5. Loss: 0.2007. Valid acc: 0.8202\n",
      "Epoch: 6. Loss: 0.1971. Valid acc: 0.8258\n",
      "Epoch: 7. Loss: 0.1960. Valid acc: 0.8258\n",
      "Epoch: 8. Loss: 0.1952. Valid acc: 0.8258\n",
      "Epoch: 9. Loss: 0.1946. Valid acc: 0.8258\n",
      "Epoch: 10. Loss: 0.1940. Valid acc: 0.8258\n",
      "Epoch: 11. Loss: 0.1936. Valid acc: 0.8258\n",
      "Epoch: 12. Loss: 0.1933. Valid acc: 0.8258\n",
      "Epoch: 13. Loss: 0.1931. Valid acc: 0.8258\n",
      "Epoch: 14. Loss: 0.1929. Valid acc: 0.8258\n",
      "Epoch: 15. Loss: 0.1928. Valid acc: 0.8258\n",
      "Epoch: 16. Loss: 0.1926. Valid acc: 0.8258\n",
      "Epoch: 17. Loss: 0.1925. Valid acc: 0.8258\n",
      "Epoch: 18. Loss: 0.1924. Valid acc: 0.8258\n",
      "Epoch: 19. Loss: 0.1923. Valid acc: 0.8258\n"
     ]
    }
   ],
   "source": [
    "train_model()"
   ]
  },
  {
   "cell_type": "markdown",
   "id": "4df83c6b-782f-4b6a-853b-76089e5a7f2d",
   "metadata": {},
   "source": [
    "# Create 3-layer neural network"
   ]
  },
  {
   "cell_type": "markdown",
   "id": "c89cc7cf-8168-4a21-8bd2-b1ae2b1df28a",
   "metadata": {},
   "source": [
    "let's add a hidden layer...\n",
    "\n",
    "gotta say, this one really sealed the deal as far as understanding what's going on with layers and parameter updates. "
   ]
  },
  {
   "cell_type": "code",
   "execution_count": 206,
   "id": "72e1bc40-66a8-4537-9cf2-82770ba4334a",
   "metadata": {},
   "outputs": [],
   "source": [
    "import torch.nn.functional as F\n",
    "loss_fn = F.l1_loss\n",
    "\n",
    "def init_params():\n",
    "    n_hidden = 10\n",
    "    w1 = torch.randn(X_train.shape[1], n_hidden).requires_grad_()\n",
    "    w2 = torch.randn(n_hidden, n_hidden).requires_grad_()\n",
    "    w3 = torch.randn(n_hidden, 1).requires_grad_()\n",
    "    weights = [w1, w2, w3]\n",
    "    biases = [torch.randn(1)[0].requires_grad_() for _ in range(len(weights))]\n",
    "    return weights, biases\n",
    "\n",
    "def forward(X, params):\n",
    "    weights, biases = params\n",
    "    n = len(weights)\n",
    "    \n",
    "    preds = X@weights[0] + biases[0]\n",
    "    preds = F.relu(preds)\n",
    "    for i in range(1, n):\n",
    "        preds = preds@weights[i] + biases[i]\n",
    "        if i < n-1:\n",
    "            preds = F.relu(preds)\n",
    "        else: \n",
    "            preds = torch.sigmoid(preds)\n",
    "    return preds\n",
    "\n",
    "# no change\n",
    "def acc_fn(preds, target):\n",
    "    acc = (target.bool() == (preds>0.5)).float().mean()\n",
    "    return acc\n",
    "\n",
    "def train_model(epochs=20, lr=10):\n",
    "    params = init_params()\n",
    "    weights, biases = params\n",
    "    \n",
    "    for n in range(epochs):\n",
    "        preds = forward(X_train, params)\n",
    "        loss = loss_fn(preds, y_train[:,None])\n",
    "        loss.backward()\n",
    "        for p in weights+biases:\n",
    "            p.data -= p.grad * lr\n",
    "            p.grad.zero_()\n",
    "            \n",
    "        with torch.no_grad():\n",
    "            preds_valid = forward(X_valid, params)\n",
    "            acc = acc_fn(preds_valid, y_valid[:,None])\n",
    "        \n",
    "        print(f'Epoch: {n}. Loss: {loss:.4f}. Valid acc: {acc:.4f}')"
   ]
  },
  {
   "cell_type": "code",
   "execution_count": 214,
   "id": "77a6df89-998d-4e7c-b6a3-122daf7a250f",
   "metadata": {},
   "outputs": [
    {
     "name": "stdout",
     "output_type": "stream",
     "text": [
      "Epoch: 0. Loss: 0.3856. Valid acc: 0.7584\n",
      "Epoch: 1. Loss: 0.2782. Valid acc: 0.7753\n",
      "Epoch: 2. Loss: 0.2186. Valid acc: 0.6910\n",
      "Epoch: 3. Loss: 0.3193. Valid acc: 0.7360\n",
      "Epoch: 4. Loss: 0.2739. Valid acc: 0.7079\n",
      "Epoch: 5. Loss: 0.2927. Valid acc: 0.7921\n",
      "Epoch: 6. Loss: 0.2129. Valid acc: 0.7921\n",
      "Epoch: 7. Loss: 0.2126. Valid acc: 0.7978\n",
      "Epoch: 8. Loss: 0.2113. Valid acc: 0.8034\n",
      "Epoch: 9. Loss: 0.2056. Valid acc: 0.8090\n",
      "Epoch: 10. Loss: 0.2032. Valid acc: 0.8146\n",
      "Epoch: 11. Loss: 0.1988. Valid acc: 0.8202\n",
      "Epoch: 12. Loss: 0.1943. Valid acc: 0.8202\n",
      "Epoch: 13. Loss: 0.1936. Valid acc: 0.8202\n",
      "Epoch: 14. Loss: 0.1932. Valid acc: 0.8315\n",
      "Epoch: 15. Loss: 0.1929. Valid acc: 0.8371\n",
      "Epoch: 16. Loss: 0.1931. Valid acc: 0.8371\n",
      "Epoch: 17. Loss: 0.1927. Valid acc: 0.8371\n",
      "Epoch: 18. Loss: 0.1924. Valid acc: 0.8315\n",
      "Epoch: 19. Loss: 0.1913. Valid acc: 0.8258\n"
     ]
    }
   ],
   "source": [
    "train_model()"
   ]
  },
  {
   "cell_type": "markdown",
   "id": "d7da0bad-2803-4882-ae92-5b2ef2c18720",
   "metadata": {},
   "source": [
    "# Using a Framework"
   ]
  },
  {
   "cell_type": "markdown",
   "id": "da133e96-5627-440a-b91e-2701a9621d1f",
   "metadata": {},
   "source": [
    "Here we'll use fastai and PyTorch to simplify many of those steps above."
   ]
  },
  {
   "cell_type": "code",
   "execution_count": 9,
   "id": "473a5560-a2cb-4f15-9a14-ad00b309e39d",
   "metadata": {},
   "outputs": [],
   "source": [
    "from fastai.tabular.all import *\n",
    "\n",
    "set_seed(42)\n",
    "\n",
    "df = pd.read_csv(path/'train.csv')\n",
    "df_test = pd.read_csv(path/'test.csv')\n",
    "\n",
    "splits = RandomSplitter(seed=42)(df)"
   ]
  },
  {
   "cell_type": "code",
   "execution_count": 14,
   "id": "b8886ac9-64e8-471d-ada3-ab83b4d53070",
   "metadata": {},
   "outputs": [],
   "source": [
    "# variable must be defined on train set:\n",
    "#   modes\n",
    "#   maxes\n",
    "\n",
    "def preprocess(df):\n",
    "    df.Fare = df.Fare.fillna(0)\n",
    "    df['LogFare'] = df.Fare.apply(np.log1p)\n",
    "    \n",
    "    df['Family'] = df.SibSp+df.Parch\n",
    "    df['Alone'] = df.Family==0\n",
    "    df['Deck'] = (df.Cabin.str[0]\n",
    "                    .map(dict(A='ABC',\n",
    "                              B='ABC',\n",
    "                              C='ABC',\n",
    "                              D='DE',\n",
    "                              E='DE',\n",
    "                              F='FG',\n",
    "                              G='FG'))\n",
    "                 )\n",
    "    df['Title'] = (df.Name\n",
    "                     .str.split(', ', expand=True)[1]\n",
    "                     .str.split('.', expand=True)[0]\n",
    "                     .map(dict(Mr='Mr',\n",
    "                               Miss='Miss',\n",
    "                               Mrs='Mrs',\n",
    "                               Master='Master'))\n",
    "                  )\n",
    "    \n",
    "    # no longer need this, as will be handled by dataloader\n",
    "#     df = df.fillna(modes)\n",
    "    \n",
    "#     cats = ['Sex', 'Pclass', 'Embarked']\n",
    "#     drop_cols = ['PassengerId', 'Name', 'Ticket', 'Cabin']\n",
    "    \n",
    "#     df = pd.get_dummies(df, columns=cats)\n",
    "    \n",
    "#     df = (df.drop(columns=drop_cols)\n",
    "#             .div(maxes)\n",
    "#          )\n",
    "    \n",
    "    \n",
    "    return df"
   ]
  },
  {
   "cell_type": "code",
   "execution_count": 15,
   "id": "0cc78c54-f234-4ac9-b31a-3b9ba0801096",
   "metadata": {},
   "outputs": [
    {
     "data": {
      "text/plain": [
       "Index(['PassengerId', 'Survived', 'Pclass', 'Name', 'Sex', 'Age', 'SibSp', 'Parch', 'Ticket', 'Fare', 'Cabin', 'Embarked', 'Family',\n",
       "       'Alone', 'Deck', 'Title', 'LogFare'],\n",
       "      dtype='object')"
      ]
     },
     "execution_count": 15,
     "metadata": {},
     "output_type": "execute_result"
    }
   ],
   "source": [
    "df = preprocess(df)\n",
    "df.columns"
   ]
  },
  {
   "cell_type": "code",
   "execution_count": 16,
   "id": "443dd622-f0a9-4b3e-a164-382ee577cba2",
   "metadata": {},
   "outputs": [],
   "source": [
    "# see https://docs.fast.ai/tabular.core.html#tabularpandas\n",
    "dls = TabularPandas(df,\n",
    "                    procs=[Categorify, FillMissing, Normalize], \n",
    "                    cat_names=['Sex', 'Pclass', 'Embarked', 'Deck', 'Title'], \n",
    "                    cont_names=['Age', 'SibSp', 'Parch', 'LogFare', 'Family', 'Alone'],\n",
    "                    y_names='Survived',\n",
    "                    y_block=CategoryBlock(),\n",
    "                    splits=splits,\n",
    "                    do_setup=True,\n",
    "                    device=None,\n",
    "                    inplace=False,\n",
    "                    reduce_memory=True).dataloaders(path='.')"
   ]
  },
  {
   "cell_type": "code",
   "execution_count": 17,
   "id": "58d1f498-1324-46b6-8d65-50e973da7e58",
   "metadata": {},
   "outputs": [],
   "source": [
    "learn = tabular_learner(dls,\n",
    "                        metrics=accuracy,\n",
    "                        layers=[10,10])"
   ]
  },
  {
   "cell_type": "code",
   "execution_count": 18,
   "id": "7bd02950-7244-40f4-af65-4bf2b346027c",
   "metadata": {},
   "outputs": [
    {
     "data": {
      "text/html": [
       "\n",
       "<style>\n",
       "    /* Turns off some styling */\n",
       "    progress {\n",
       "        /* gets rid of default border in Firefox and Opera. */\n",
       "        border: none;\n",
       "        /* Needs to be in here for Safari polyfill so background images work as expected. */\n",
       "        background-size: auto;\n",
       "    }\n",
       "    progress:not([value]), progress:not([value])::-webkit-progress-bar {\n",
       "        background: repeating-linear-gradient(45deg, #7e7e7e, #7e7e7e 10px, #5c5c5c 10px, #5c5c5c 20px);\n",
       "    }\n",
       "    .progress-bar-interrupted, .progress-bar-interrupted::-webkit-progress-bar {\n",
       "        background: #F44336;\n",
       "    }\n",
       "</style>\n"
      ],
      "text/plain": [
       "<IPython.core.display.HTML object>"
      ]
     },
     "metadata": {},
     "output_type": "display_data"
    },
    {
     "data": {
      "text/html": [],
      "text/plain": [
       "<IPython.core.display.HTML object>"
      ]
     },
     "metadata": {},
     "output_type": "display_data"
    },
    {
     "data": {
      "text/plain": [
       "SuggestedLRs(slide=0.0831763744354248, valley=0.015848932787775993)"
      ]
     },
     "execution_count": 18,
     "metadata": {},
     "output_type": "execute_result"
    },
    {
     "data": {
      "image/png": "[encoded data removed]",
      "text/plain": [
       "<Figure size 640x480 with 1 Axes>"
      ]
     },
     "metadata": {},
     "output_type": "display_data"
    }
   ],
   "source": [
    "learn.lr_find(suggest_funcs=(slide, valley))"
   ]
  },
  {
   "cell_type": "code",
   "execution_count": 19,
   "id": "853bee4f-1b0a-418f-bc23-6aa25c15ea10",
   "metadata": {},
   "outputs": [
    {
     "data": {
      "text/html": [
       "\n",
       "<style>\n",
       "    /* Turns off some styling */\n",
       "    progress {\n",
       "        /* gets rid of default border in Firefox and Opera. */\n",
       "        border: none;\n",
       "        /* Needs to be in here for Safari polyfill so background images work as expected. */\n",
       "        background-size: auto;\n",
       "    }\n",
       "    progress:not([value]), progress:not([value])::-webkit-progress-bar {\n",
       "        background: repeating-linear-gradient(45deg, #7e7e7e, #7e7e7e 10px, #5c5c5c 10px, #5c5c5c 20px);\n",
       "    }\n",
       "    .progress-bar-interrupted, .progress-bar-interrupted::-webkit-progress-bar {\n",
       "        background: #F44336;\n",
       "    }\n",
       "</style>\n"
      ],
      "text/plain": [
       "<IPython.core.display.HTML object>"
      ]
     },
     "metadata": {},
     "output_type": "display_data"
    },
    {
     "data": {
      "text/html": [
       "<table border=\"1\" class=\"dataframe\">\n",
       "  <thead>\n",
       "    <tr style=\"text-align: left;\">\n",
       "      <th>epoch</th>\n",
       "      <th>train_loss</th>\n",
       "      <th>valid_loss</th>\n",
       "      <th>accuracy</th>\n",
       "      <th>time</th>\n",
       "    </tr>\n",
       "  </thead>\n",
       "  <tbody>\n",
       "    <tr>\n",
       "      <td>0</td>\n",
       "      <td>0.601420</td>\n",
       "      <td>0.646064</td>\n",
       "      <td>0.595506</td>\n",
       "      <td>00:00</td>\n",
       "    </tr>\n",
       "    <tr>\n",
       "      <td>1</td>\n",
       "      <td>0.525531</td>\n",
       "      <td>0.494071</td>\n",
       "      <td>0.775281</td>\n",
       "      <td>00:00</td>\n",
       "    </tr>\n",
       "    <tr>\n",
       "      <td>2</td>\n",
       "      <td>0.477161</td>\n",
       "      <td>0.434220</td>\n",
       "      <td>0.792135</td>\n",
       "      <td>00:00</td>\n",
       "    </tr>\n",
       "    <tr>\n",
       "      <td>3</td>\n",
       "      <td>0.450097</td>\n",
       "      <td>0.427103</td>\n",
       "      <td>0.814607</td>\n",
       "      <td>00:00</td>\n",
       "    </tr>\n",
       "    <tr>\n",
       "      <td>4</td>\n",
       "      <td>0.438997</td>\n",
       "      <td>0.412734</td>\n",
       "      <td>0.842697</td>\n",
       "      <td>00:00</td>\n",
       "    </tr>\n",
       "    <tr>\n",
       "      <td>5</td>\n",
       "      <td>0.426286</td>\n",
       "      <td>0.421427</td>\n",
       "      <td>0.803371</td>\n",
       "      <td>00:00</td>\n",
       "    </tr>\n",
       "    <tr>\n",
       "      <td>6</td>\n",
       "      <td>0.416050</td>\n",
       "      <td>0.439325</td>\n",
       "      <td>0.837079</td>\n",
       "      <td>00:00</td>\n",
       "    </tr>\n",
       "    <tr>\n",
       "      <td>7</td>\n",
       "      <td>0.410603</td>\n",
       "      <td>0.415310</td>\n",
       "      <td>0.786517</td>\n",
       "      <td>00:00</td>\n",
       "    </tr>\n",
       "    <tr>\n",
       "      <td>8</td>\n",
       "      <td>0.404997</td>\n",
       "      <td>0.424563</td>\n",
       "      <td>0.825843</td>\n",
       "      <td>00:00</td>\n",
       "    </tr>\n",
       "    <tr>\n",
       "      <td>9</td>\n",
       "      <td>0.399146</td>\n",
       "      <td>0.444472</td>\n",
       "      <td>0.837079</td>\n",
       "      <td>00:00</td>\n",
       "    </tr>\n",
       "    <tr>\n",
       "      <td>10</td>\n",
       "      <td>0.395762</td>\n",
       "      <td>0.433492</td>\n",
       "      <td>0.837079</td>\n",
       "      <td>00:00</td>\n",
       "    </tr>\n",
       "    <tr>\n",
       "      <td>11</td>\n",
       "      <td>0.391731</td>\n",
       "      <td>0.438659</td>\n",
       "      <td>0.825843</td>\n",
       "      <td>00:00</td>\n",
       "    </tr>\n",
       "    <tr>\n",
       "      <td>12</td>\n",
       "      <td>0.387056</td>\n",
       "      <td>0.441008</td>\n",
       "      <td>0.831461</td>\n",
       "      <td>00:00</td>\n",
       "    </tr>\n",
       "    <tr>\n",
       "      <td>13</td>\n",
       "      <td>0.382388</td>\n",
       "      <td>0.437289</td>\n",
       "      <td>0.831461</td>\n",
       "      <td>00:00</td>\n",
       "    </tr>\n",
       "    <tr>\n",
       "      <td>14</td>\n",
       "      <td>0.377014</td>\n",
       "      <td>0.452733</td>\n",
       "      <td>0.831461</td>\n",
       "      <td>00:00</td>\n",
       "    </tr>\n",
       "    <tr>\n",
       "      <td>15</td>\n",
       "      <td>0.376351</td>\n",
       "      <td>0.463995</td>\n",
       "      <td>0.831461</td>\n",
       "      <td>00:00</td>\n",
       "    </tr>\n",
       "  </tbody>\n",
       "</table>"
      ],
      "text/plain": [
       "<IPython.core.display.HTML object>"
      ]
     },
     "metadata": {},
     "output_type": "display_data"
    }
   ],
   "source": [
    "learn.fit(16, lr=0.03)"
   ]
  },
  {
   "cell_type": "code",
   "execution_count": 23,
   "id": "10ce1db2-7a38-4339-b93f-3db690093f56",
   "metadata": {},
   "outputs": [
    {
     "data": {
      "text/html": [
       "\n",
       "<style>\n",
       "    /* Turns off some styling */\n",
       "    progress {\n",
       "        /* gets rid of default border in Firefox and Opera. */\n",
       "        border: none;\n",
       "        /* Needs to be in here for Safari polyfill so background images work as expected. */\n",
       "        background-size: auto;\n",
       "    }\n",
       "    progress:not([value]), progress:not([value])::-webkit-progress-bar {\n",
       "        background: repeating-linear-gradient(45deg, #7e7e7e, #7e7e7e 10px, #5c5c5c 10px, #5c5c5c 20px);\n",
       "    }\n",
       "    .progress-bar-interrupted, .progress-bar-interrupted::-webkit-progress-bar {\n",
       "        background: #F44336;\n",
       "    }\n",
       "</style>\n"
      ],
      "text/plain": [
       "<IPython.core.display.HTML object>"
      ]
     },
     "metadata": {},
     "output_type": "display_data"
    },
    {
     "data": {
      "text/html": [],
      "text/plain": [
       "<IPython.core.display.HTML object>"
      ]
     },
     "metadata": {},
     "output_type": "display_data"
    }
   ],
   "source": [
    "df_test = preprocess(df_test)\n",
    "dl_test = learn.dls.test_dl(df_test)\n",
    "\n",
    "preds, _ = learn.get_preds(dl=dl_test)\n",
    "df_test['Survived'] = (preds[:,1]>0.5).int()\n",
    "\n",
    "submission = df_test[['PassengerId', 'Survived']]\n",
    "submission.to_csv('submission.csv', index=False)"
   ]
  },
  {
   "cell_type": "code",
   "execution_count": 28,
   "id": "f31d0612-803e-4e4d-9b83-165064b4f886",
   "metadata": {},
   "outputs": [
    {
     "name": "stdout",
     "output_type": "stream",
     "text": [
      "PassengerId,Survived\n",
      "892,0\n",
      "893,1\n",
      "894,0\n",
      "895,0\n",
      "896,1\n",
      "897,0\n",
      "898,1\n",
      "899,1\n",
      "900,1\n"
     ]
    }
   ],
   "source": [
    "!head submission.csv"
   ]
  },
  {
   "cell_type": "code",
   "execution_count": 27,
   "id": "0f315540-335f-4caa-883d-78df8b17098f",
   "metadata": {},
   "outputs": [],
   "source": []
  },
  {
   "cell_type": "code",
   "execution_count": null,
   "id": "0a1d835d-e726-4736-b229-01a26abc11f0",
   "metadata": {},
   "outputs": [],
   "source": []
  }
 ],
 "metadata": {
  "environment": {
   "kernel": "python3",
   "name": "pytorch-gpu.1-12.m99",
   "type": "gcloud",
   "uri": "gcr.io/deeplearning-platform-release/pytorch-gpu.1-12:m99"
  },
  "kernelspec": {
   "display_name": "Python 3",
   "language": "python",
   "name": "python3"
  },
  "language_info": {
   "codemirror_mode": {
    "name": "ipython",
    "version": 3
   },
   "file_extension": ".py",
   "mimetype": "text/x-python",
   "name": "python",
   "nbconvert_exporter": "python",
   "pygments_lexer": "ipython3",
   "version": "3.7.12"
  }
 },
 "nbformat": 4,
 "nbformat_minor": 5
}
